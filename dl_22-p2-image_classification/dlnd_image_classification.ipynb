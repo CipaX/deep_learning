{
 "cells": [
  {
   "cell_type": "markdown",
   "metadata": {
    "collapsed": true,
    "deletable": true,
    "editable": true
   },
   "source": [
    "# Image Classification\n",
    "In this project, you'll classify images from the [CIFAR-10 dataset](https://www.cs.toronto.edu/~kriz/cifar.html).  The dataset consists of airplanes, dogs, cats, and other objects. You'll preprocess the images, then train a convolutional neural network on all the samples. The images need to be normalized and the labels need to be one-hot encoded.  You'll get to apply what you learned and build a convolutional, max pooling, dropout, and fully connected layers.  At the end, you'll get to see your neural network's predictions on the sample images.\n",
    "## Get the Data\n",
    "Run the following cell to download the [CIFAR-10 dataset for python](https://www.cs.toronto.edu/~kriz/cifar-10-python.tar.gz)."
   ]
  },
  {
   "cell_type": "code",
   "execution_count": 1,
   "metadata": {
    "collapsed": false,
    "deletable": true,
    "editable": true
   },
   "outputs": [
    {
     "name": "stderr",
     "output_type": "stream",
     "text": [
      "CIFAR-10 Dataset: 171MB [04:00, 709KB/s]                               \n"
     ]
    },
    {
     "name": "stdout",
     "output_type": "stream",
     "text": [
      "All files found!\n"
     ]
    }
   ],
   "source": [
    "\"\"\"\n",
    "DON'T MODIFY ANYTHING IN THIS CELL THAT IS BELOW THIS LINE\n",
    "\"\"\"\n",
    "from urllib.request import urlretrieve\n",
    "from os.path import isfile, isdir\n",
    "from tqdm import tqdm\n",
    "import problem_unittests as tests\n",
    "import tarfile\n",
    "\n",
    "cifar10_dataset_folder_path = 'cifar-10-batches-py'\n",
    "\n",
    "class DLProgress(tqdm):\n",
    "    last_block = 0\n",
    "\n",
    "    def hook(self, block_num=1, block_size=1, total_size=None):\n",
    "        self.total = total_size\n",
    "        self.update((block_num - self.last_block) * block_size)\n",
    "        self.last_block = block_num\n",
    "\n",
    "if not isfile('cifar-10-python.tar.gz'):\n",
    "    with DLProgress(unit='B', unit_scale=True, miniters=1, desc='CIFAR-10 Dataset') as pbar:\n",
    "        urlretrieve(\n",
    "            'https://www.cs.toronto.edu/~kriz/cifar-10-python.tar.gz',\n",
    "            'cifar-10-python.tar.gz',\n",
    "            pbar.hook)\n",
    "\n",
    "if not isdir(cifar10_dataset_folder_path):\n",
    "    with tarfile.open('cifar-10-python.tar.gz') as tar:\n",
    "        tar.extractall()\n",
    "        tar.close()\n",
    "\n",
    "\n",
    "tests.test_folder_path(cifar10_dataset_folder_path)"
   ]
  },
  {
   "cell_type": "markdown",
   "metadata": {
    "deletable": true,
    "editable": true
   },
   "source": [
    "## Explore the Data\n",
    "The dataset is broken into batches to prevent your machine from running out of memory.  The CIFAR-10 dataset consists of 5 batches, named `data_batch_1`, `data_batch_2`, etc.. Each batch contains the labels and images that are one of the following:\n",
    "* airplane\n",
    "* automobile\n",
    "* bird\n",
    "* cat\n",
    "* deer\n",
    "* dog\n",
    "* frog\n",
    "* horse\n",
    "* ship\n",
    "* truck\n",
    "\n",
    "Understanding a dataset is part of making predictions on the data.  Play around with the code cell below by changing the `batch_id` and `sample_id`. The `batch_id` is the id for a batch (1-5). The `sample_id` is the id for a image and label pair in the batch.\n",
    "\n",
    "Ask yourself \"What are all possible labels?\", \"What is the range of values for the image data?\", \"Are the labels in order or random?\".  Answers to questions like these will help you preprocess the data and end up with better predictions."
   ]
  },
  {
   "cell_type": "code",
   "execution_count": 2,
   "metadata": {
    "collapsed": false,
    "deletable": true,
    "editable": true
   },
   "outputs": [
    {
     "name": "stdout",
     "output_type": "stream",
     "text": [
      "\n",
      "Stats of batch 1:\n",
      "Samples: 10000\n",
      "Label Counts: {0: 1005, 1: 974, 2: 1032, 3: 1016, 4: 999, 5: 937, 6: 1030, 7: 1001, 8: 1025, 9: 981}\n",
      "First 20 Labels: [6, 9, 9, 4, 1, 1, 2, 7, 8, 3, 4, 7, 7, 2, 9, 9, 9, 3, 2, 6]\n",
      "\n",
      "Example of Image 5:\n",
      "Image - Min Value: 0 Max Value: 252\n",
      "Image - Shape: (32, 32, 3)\n",
      "Label - Label Id: 1 Name: automobile\n"
     ]
    },
    {
     "data": {
      "image/png": "[encoded data removed]",
      "text/plain": [
       "<matplotlib.figure.Figure at 0x7fb9502731d0>"
      ]
     },
     "metadata": {
      "image/png": {
       "height": 250,
       "width": 253
      }
     },
     "output_type": "display_data"
    }
   ],
   "source": [
    "%matplotlib inline\n",
    "%config InlineBackend.figure_format = 'retina'\n",
    "\n",
    "import helper\n",
    "import numpy as np\n",
    "\n",
    "# Explore the dataset\n",
    "batch_id = 1\n",
    "sample_id = 5\n",
    "helper.display_stats(cifar10_dataset_folder_path, batch_id, sample_id)"
   ]
  },
  {
   "cell_type": "markdown",
   "metadata": {
    "deletable": true,
    "editable": true
   },
   "source": [
    "## Implement Preprocess Functions\n",
    "### Normalize\n",
    "In the cell below, implement the `normalize` function to take in image data, `x`, and return it as a normalized Numpy array. The values should be in the range of 0 to 1, inclusive.  The return object should be the same shape as `x`."
   ]
  },
  {
   "cell_type": "code",
   "execution_count": 3,
   "metadata": {
    "collapsed": false,
    "deletable": true,
    "editable": true
   },
   "outputs": [
    {
     "name": "stdout",
     "output_type": "stream",
     "text": [
      "Tests Passed\n"
     ]
    }
   ],
   "source": [
    "def normalize(x):\n",
    "    \"\"\"\n",
    "    Normalize a list of sample image data in the range of 0 to 1\n",
    "    : x: List of image data.  The image shape is (32, 32, 3)\n",
    "    : return: Numpy array of normalize data\n",
    "    \"\"\"\n",
    "    # TODO: Implement Function\n",
    "    result = np.array([[[[component / 255 for component in pixel] for pixel in row] for row in image] for image in x])\n",
    "\n",
    "    return result\n",
    "\n",
    "\n",
    "\"\"\"\n",
    "DON'T MODIFY ANYTHING IN THIS CELL THAT IS BELOW THIS LINE\n",
    "\"\"\"\n",
    "tests.test_normalize(normalize)"
   ]
  },
  {
   "cell_type": "markdown",
   "metadata": {
    "deletable": true,
    "editable": true
   },
   "source": [
    "### One-hot encode\n",
    "Just like the previous code cell, you'll be implementing a function for preprocessing.  This time, you'll implement the `one_hot_encode` function. The input, `x`, are a list of labels.  Implement the function to return the list of labels as One-Hot encoded Numpy array.  The possible values for labels are 0 to 9. The one-hot encoding function should return the same encoding for each value between each call to `one_hot_encode`.  Make sure to save the map of encodings outside the function.\n",
    "\n",
    "Hint: Don't reinvent the wheel."
   ]
  },
  {
   "cell_type": "code",
   "execution_count": 4,
   "metadata": {
    "collapsed": false,
    "deletable": true,
    "editable": true
   },
   "outputs": [
    {
     "name": "stdout",
     "output_type": "stream",
     "text": [
      "Tests Passed\n"
     ]
    }
   ],
   "source": [
    "from sklearn import preprocessing\n",
    "\n",
    "label_classes = range(10)\n",
    "\n",
    "def one_hot_encode(x):\n",
    "    \"\"\"\n",
    "    One hot encode a list of sample labels. Return a one-hot encoded vector for each label.\n",
    "    : x: List of sample Labels\n",
    "    : return: Numpy array of one-hot encoded labels\n",
    "    \"\"\"\n",
    "    # TODO: Implement Function\n",
    "    return preprocessing.label_binarize(x, label_classes)\n",
    "\n",
    "\"\"\"\n",
    "DON'T MODIFY ANYTHING IN THIS CELL THAT IS BELOW THIS LINE\n",
    "\"\"\"\n",
    "tests.test_one_hot_encode(one_hot_encode)"
   ]
  },
  {
   "cell_type": "markdown",
   "metadata": {
    "deletable": true,
    "editable": true
   },
   "source": [
    "### Randomize Data\n",
    "As you saw from exploring the data above, the order of the samples are randomized.  It doesn't hurt to randomize it again, but you don't need to for this dataset."
   ]
  },
  {
   "cell_type": "markdown",
   "metadata": {
    "deletable": true,
    "editable": true
   },
   "source": [
    "## Preprocess all the data and save it\n",
    "Running the code cell below will preprocess all the CIFAR-10 data and save it to file. The code below also uses 10% of the training data for validation."
   ]
  },
  {
   "cell_type": "code",
   "execution_count": 5,
   "metadata": {
    "collapsed": false,
    "deletable": true,
    "editable": true
   },
   "outputs": [],
   "source": [
    "\"\"\"\n",
    "DON'T MODIFY ANYTHING IN THIS CELL\n",
    "\"\"\"\n",
    "# Preprocess Training, Validation, and Testing Data\n",
    "helper.preprocess_and_save_data(cifar10_dataset_folder_path, normalize, one_hot_encode)"
   ]
  },
  {
   "cell_type": "markdown",
   "metadata": {
    "deletable": true,
    "editable": true
   },
   "source": [
    "# Check Point\n",
    "This is your first checkpoint.  If you ever decide to come back to this notebook or have to restart the notebook, you can start from here.  The preprocessed data has been saved to disk."
   ]
  },
  {
   "cell_type": "code",
   "execution_count": 6,
   "metadata": {
    "collapsed": false,
    "deletable": true,
    "editable": true
   },
   "outputs": [],
   "source": [
    "\"\"\"\n",
    "DON'T MODIFY ANYTHING IN THIS CELL\n",
    "\"\"\"\n",
    "import pickle\n",
    "import problem_unittests as tests\n",
    "import helper\n",
    "\n",
    "# Load the Preprocessed Validation data\n",
    "valid_features, valid_labels = pickle.load(open('preprocess_validation.p', mode='rb'))"
   ]
  },
  {
   "cell_type": "markdown",
   "metadata": {
    "deletable": true,
    "editable": true
   },
   "source": [
    "## Build the network\n",
    "For the neural network, you'll build each layer into a function.  Most of the code you've seen has been outside of functions. To test your code more thoroughly, we require that you put each layer in a function.  This allows us to give you better feedback and test for simple mistakes using our unittests before you submit your project.\n",
    "\n",
    ">**Note:** If you're finding it hard to dedicate enough time for this course each week, we've provided a small shortcut to this part of the project. In the next couple of problems, you'll have the option to use classes from the [TensorFlow Layers](https://www.tensorflow.org/api_docs/python/tf/layers) or [TensorFlow Layers (contrib)](https://www.tensorflow.org/api_guides/python/contrib.layers) packages to build each layer, except the layers you build in the \"Convolutional and Max Pooling Layer\" section.  TF Layers is similar to Keras's and TFLearn's abstraction to layers, so it's easy to pickup.\n",
    "\n",
    ">However, if you would like to get the most out of this course, try to solve all the problems _without_ using anything from the TF Layers packages. You **can** still use classes from other packages that happen to have the same name as ones you find in TF Layers! For example, instead of using the TF Layers version of the `conv2d` class, [tf.layers.conv2d](https://www.tensorflow.org/api_docs/python/tf/layers/conv2d), you would want to use the TF Neural Network version of `conv2d`, [tf.nn.conv2d](https://www.tensorflow.org/api_docs/python/tf/nn/conv2d). \n",
    "\n",
    "Let's begin!\n",
    "\n",
    "### Input\n",
    "The neural network needs to read the image data, one-hot encoded labels, and dropout keep probability. Implement the following functions\n",
    "* Implement `neural_net_image_input`\n",
    " * Return a [TF Placeholder](https://www.tensorflow.org/api_docs/python/tf/placeholder)\n",
    " * Set the shape using `image_shape` with batch size set to `None`.\n",
    " * Name the TensorFlow placeholder \"x\" using the TensorFlow `name` parameter in the [TF Placeholder](https://www.tensorflow.org/api_docs/python/tf/placeholder).\n",
    "* Implement `neural_net_label_input`\n",
    " * Return a [TF Placeholder](https://www.tensorflow.org/api_docs/python/tf/placeholder)\n",
    " * Set the shape using `n_classes` with batch size set to `None`.\n",
    " * Name the TensorFlow placeholder \"y\" using the TensorFlow `name` parameter in the [TF Placeholder](https://www.tensorflow.org/api_docs/python/tf/placeholder).\n",
    "* Implement `neural_net_keep_prob_input`\n",
    " * Return a [TF Placeholder](https://www.tensorflow.org/api_docs/python/tf/placeholder) for dropout keep probability.\n",
    " * Name the TensorFlow placeholder \"keep_prob\" using the TensorFlow `name` parameter in the [TF Placeholder](https://www.tensorflow.org/api_docs/python/tf/placeholder).\n",
    "\n",
    "These names will be used at the end of the project to load your saved model.\n",
    "\n",
    "Note: `None` for shapes in TensorFlow allow for a dynamic size."
   ]
  },
  {
   "cell_type": "code",
   "execution_count": 7,
   "metadata": {
    "collapsed": false,
    "deletable": true,
    "editable": true
   },
   "outputs": [
    {
     "name": "stdout",
     "output_type": "stream",
     "text": [
      "Image Input Tests Passed.\n",
      "Label Input Tests Passed.\n",
      "Keep Prob Tests Passed.\n"
     ]
    }
   ],
   "source": [
    "import tensorflow as tf\n",
    "\n",
    "def neural_net_image_input(image_shape):\n",
    "    \"\"\"\n",
    "    Return a Tensor for a bach of image input\n",
    "    : image_shape: Shape of the images\n",
    "    : return: Tensor for image input.\n",
    "    \"\"\"\n",
    "    # DONE\n",
    "    return tf.placeholder(tf.float32, shape = [None] + list(image_shape), name = 'x')\n",
    "\n",
    "\n",
    "def neural_net_label_input(n_classes):\n",
    "    \"\"\"\n",
    "    Return a Tensor for a batch of label input\n",
    "    : n_classes: Number of classes\n",
    "    : return: Tensor for label input.\n",
    "    \"\"\"\n",
    "    # DONE\n",
    "    return tf.placeholder(tf.float32, shape = [None, n_classes], name = 'y')\n",
    "\n",
    "\n",
    "def neural_net_keep_prob_input():\n",
    "    \"\"\"\n",
    "    Return a Tensor for keep probability\n",
    "    : return: Tensor for keep probability.\n",
    "    \"\"\"\n",
    "    # DONE\n",
    "    return tf.placeholder(tf.float32, name = 'keep_prob')\n",
    "\n",
    "\n",
    "\"\"\"\n",
    "DON'T MODIFY ANYTHING IN THIS CELL THAT IS BELOW THIS LINE\n",
    "\"\"\"\n",
    "tf.reset_default_graph()\n",
    "tests.test_nn_image_inputs(neural_net_image_input)\n",
    "tests.test_nn_label_inputs(neural_net_label_input)\n",
    "tests.test_nn_keep_prob_inputs(neural_net_keep_prob_input)"
   ]
  },
  {
   "cell_type": "markdown",
   "metadata": {
    "deletable": true,
    "editable": true
   },
   "source": [
    "### Convolution and Max Pooling Layer\n",
    "Convolution layers have a lot of success with images. For this code cell, you should implement the function `conv2d_maxpool` to apply convolution then max pooling:\n",
    "* Create the weight and bias using `conv_ksize`, `conv_num_outputs` and the shape of `x_tensor`.\n",
    "* Apply a convolution to `x_tensor` using weight and `conv_strides`.\n",
    " * We recommend you use same padding, but you're welcome to use any padding.\n",
    "* Add bias\n",
    "* Add a nonlinear activation to the convolution.\n",
    "* Apply Max Pooling using `pool_ksize` and `pool_strides`.\n",
    " * We recommend you use same padding, but you're welcome to use any padding.\n",
    "\n",
    "**Note:** You **can't** use [TensorFlow Layers](https://www.tensorflow.org/api_docs/python/tf/layers) or [TensorFlow Layers (contrib)](https://www.tensorflow.org/api_guides/python/contrib.layers) for **this** layer, but you can still use TensorFlow's [Neural Network](https://www.tensorflow.org/api_docs/python/tf/nn) package. You may still use the shortcut option for all the **other** layers."
   ]
  },
  {
   "cell_type": "code",
   "execution_count": 8,
   "metadata": {
    "collapsed": false,
    "deletable": true,
    "editable": true
   },
   "outputs": [
    {
     "name": "stdout",
     "output_type": "stream",
     "text": [
      "Tests Passed\n"
     ]
    }
   ],
   "source": [
    "def conv2d_maxpool(x_tensor, conv_num_outputs, conv_ksize, conv_strides, pool_ksize, pool_strides):\n",
    "    \"\"\"\n",
    "    Apply convolution then max pooling to x_tensor\n",
    "    :param x_tensor: TensorFlow Tensor\n",
    "    :param conv_num_outputs: Number of outputs for the convolutional layer\n",
    "    :param conv_ksize: kernel size 2-D Tuple for the convolutional layer\n",
    "    :param conv_strides: Stride 2-D Tuple for convolution\n",
    "    :param pool_ksize: kernel size 2-D Tuple for pool\n",
    "    :param pool_strides: Stride 2-D Tuple for pool\n",
    "    : return: A tensor that represents convolution and max pooling of x_tensor\n",
    "    \"\"\"\n",
    "    # DONE\n",
    "    \n",
    "    weight = tf.Variable(\n",
    "        tf.truncated_normal([*conv_ksize,\n",
    "                             x_tensor.get_shape().as_list()[-1],\n",
    "                             conv_num_outputs],\n",
    "                            mean=0.0,\n",
    "                            stddev=0.1))\n",
    "    bias = tf.Variable(tf.zeros(conv_num_outputs))\n",
    "    \n",
    "    result = tf.nn.conv2d(x_tensor, weight,\n",
    "                          strides=[1, *conv_strides, 1],\n",
    "                          padding='SAME')\n",
    "    result = tf.nn.bias_add(result, bias)\n",
    "    result = tf.nn.relu(result)\n",
    "    \n",
    "    result = tf.nn.max_pool(result,\n",
    "                            ksize=[1, *pool_ksize, 1],\n",
    "                            strides=[1, *pool_strides, 1],\n",
    "                            padding='SAME')\n",
    "    \n",
    "    return result\n",
    "\n",
    "\n",
    "\"\"\"\n",
    "DON'T MODIFY ANYTHING IN THIS CELL THAT IS BELOW THIS LINE\n",
    "\"\"\"\n",
    "tests.test_con_pool(conv2d_maxpool)"
   ]
  },
  {
   "cell_type": "markdown",
   "metadata": {
    "deletable": true,
    "editable": true
   },
   "source": [
    "### Flatten Layer\n",
    "Implement the `flatten` function to change the dimension of `x_tensor` from a 4-D tensor to a 2-D tensor.  The output should be the shape (*Batch Size*, *Flattened Image Size*). Shortcut option: you can use classes from the [TensorFlow Layers](https://www.tensorflow.org/api_docs/python/tf/layers) or [TensorFlow Layers (contrib)](https://www.tensorflow.org/api_guides/python/contrib.layers) packages for this layer. For more of a challenge, only use other TensorFlow packages."
   ]
  },
  {
   "cell_type": "code",
   "execution_count": 9,
   "metadata": {
    "collapsed": false,
    "deletable": true,
    "editable": true,
    "scrolled": false
   },
   "outputs": [
    {
     "name": "stdout",
     "output_type": "stream",
     "text": [
      "Tests Passed\n"
     ]
    }
   ],
   "source": [
    "from functools import reduce\n",
    "\n",
    "def flatten(x_tensor):\n",
    "    \"\"\"\n",
    "    Flatten x_tensor to (Batch Size, Flattened Image Size)\n",
    "    : x_tensor: A tensor of size (Batch Size, ...), where ... are the image dimensions.\n",
    "    : return: A tensor of size (Batch Size, Flattened Image Size).\n",
    "    \"\"\"\n",
    "    # DONE\n",
    "    \n",
    "    # static: refers to values known when constructing the graph\n",
    "    # dynamic: refers to values known only during the graph's execution\n",
    "    \n",
    "    # The input tensor has to be shaped both statically (set_shape) for inference\n",
    "    # and dynamically (reshape) for graph operations.\n",
    "    \n",
    "    s_rank = x_tensor.get_shape().ndims                               # static\n",
    "    d_shape = tf.shape(x_tensor)                                      # dynamic tensor [rank]\n",
    "    d_batch_size = tf.slice(d_shape, [0], [1])                        # dynamic tensor [1]\n",
    "    d_spatial_sizes = tf.slice(d_shape, [1], [s_rank - 1])            # dynamic tensor [rank-1]\n",
    "    \n",
    "    d_flat_spatial_size = tf.reduce_prod(d_spatial_sizes)             # dynamic scalar\n",
    "    d_flat_spatial_size = tf.expand_dims(d_flat_spatial_size, 0)      # dynamic tensor [1]\n",
    "    d_flat_shape = tf.concat([d_batch_size, d_flat_spatial_size], 0)  # dynamic tensor [2]\n",
    "    \n",
    "    d_result = tf.reshape(x_tensor, d_flat_shape)                     # dynamic reshape input using the dynamic tensor\n",
    "    \n",
    "    s_shape = x_tensor.get_shape().as_list()                          # static tensor [rank]\n",
    "    s_batch_size = s_shape[0]                                         # static tensor [1]\n",
    "    s_spatial_sizes = s_shape[1:]                                     # static tensor[rank-1]\n",
    "    s_flat_spatial_size = reduce(lambda x, y: x * y, s_spatial_sizes) # static scalar\n",
    "    if not s_flat_spatial_size:\n",
    "        s_flat_spatial_size = None\n",
    "    \n",
    "    d_result.set_shape([s_batch_size, s_flat_spatial_size])\n",
    "    \n",
    "    return d_result\n",
    "\n",
    "\"\"\"\n",
    "DON'T MODIFY ANYTHING IN THIS CELL THAT IS BELOW THIS LINE\n",
    "\"\"\"\n",
    "tests.test_flatten(flatten)"
   ]
  },
  {
   "cell_type": "markdown",
   "metadata": {
    "deletable": true,
    "editable": true
   },
   "source": [
    "### Fully-Connected Layer\n",
    "Implement the `fully_conn` function to apply a fully connected layer to `x_tensor` with the shape (*Batch Size*, *num_outputs*). Shortcut option: you can use classes from the [TensorFlow Layers](https://www.tensorflow.org/api_docs/python/tf/layers) or [TensorFlow Layers (contrib)](https://www.tensorflow.org/api_guides/python/contrib.layers) packages for this layer. For more of a challenge, only use other TensorFlow packages."
   ]
  },
  {
   "cell_type": "code",
   "execution_count": 10,
   "metadata": {
    "collapsed": false,
    "deletable": true,
    "editable": true,
    "scrolled": false
   },
   "outputs": [
    {
     "name": "stdout",
     "output_type": "stream",
     "text": [
      "Tests Passed\n"
     ]
    }
   ],
   "source": [
    "def fully_conn(x_tensor, num_outputs):\n",
    "    \"\"\"\n",
    "    Apply a fully connected layer to x_tensor using weight and bias\n",
    "    : x_tensor: A 2-D tensor where the first dimension is batch size.\n",
    "    : num_outputs: The number of output that the new tensor should be.\n",
    "    : return: A 2-D tensor where the second dimension is num_outputs.\n",
    "    \"\"\"\n",
    "    # DONE\n",
    "    \n",
    "    s_x_rank = x_tensor.get_shape().ndims\n",
    "    s_x_shape = x_tensor.get_shape().as_list()\n",
    "    s_spatial_sizes = s_x_shape[1:]\n",
    "    \n",
    "    d_weight = tf.Variable(\n",
    "        tf.truncated_normal([*s_spatial_sizes, num_outputs],\n",
    "                            mean=0.0,\n",
    "                            stddev=0.1))\n",
    "\n",
    "    d_bias = tf.Variable(tf.zeros(num_outputs))\n",
    "    \n",
    "    d_result = tf.matmul(x_tensor, d_weight)\n",
    "    d_result = tf.nn.bias_add(d_result, d_bias)\n",
    "    d_result = tf.nn.relu(d_result)\n",
    "    \n",
    "    return d_result\n",
    "\n",
    "\n",
    "\"\"\"\n",
    "DON'T MODIFY ANYTHING IN THIS CELL THAT IS BELOW THIS LINE\n",
    "\"\"\"\n",
    "tests.test_fully_conn(fully_conn)"
   ]
  },
  {
   "cell_type": "markdown",
   "metadata": {
    "deletable": true,
    "editable": true
   },
   "source": [
    "### Output Layer\n",
    "Implement the `output` function to apply a fully connected layer to `x_tensor` with the shape (*Batch Size*, *num_outputs*). Shortcut option: you can use classes from the [TensorFlow Layers](https://www.tensorflow.org/api_docs/python/tf/layers) or [TensorFlow Layers (contrib)](https://www.tensorflow.org/api_guides/python/contrib.layers) packages for this layer. For more of a challenge, only use other TensorFlow packages.\n",
    "\n",
    "**Note:** Activation, softmax, or cross entropy should **not** be applied to this."
   ]
  },
  {
   "cell_type": "code",
   "execution_count": 11,
   "metadata": {
    "collapsed": false,
    "deletable": true,
    "editable": true
   },
   "outputs": [
    {
     "name": "stdout",
     "output_type": "stream",
     "text": [
      "Tests Passed\n"
     ]
    }
   ],
   "source": [
    "def output(x_tensor, num_outputs):\n",
    "    \"\"\"\n",
    "    Apply a output layer to x_tensor using weight and bias\n",
    "    : x_tensor: A 2-D tensor where the first dimension is batch size.\n",
    "    : num_outputs: The number of output that the new tensor should be.\n",
    "    : return: A 2-D tensor where the second dimension is num_outputs.\n",
    "    \"\"\"\n",
    "    # DONE\n",
    "    \n",
    "    s_x_rank = x_tensor.get_shape().ndims\n",
    "    s_x_shape = x_tensor.get_shape().as_list()\n",
    "    s_spatial_sizes = s_x_shape[1:]\n",
    "    \n",
    "    d_weight = tf.Variable(\n",
    "        tf.truncated_normal([*s_spatial_sizes, num_outputs],\n",
    "                            mean=0.0,\n",
    "                            stddev=0.1))\n",
    "\n",
    "    d_bias = tf.Variable(tf.zeros(num_outputs))\n",
    "    \n",
    "    d_result = tf.matmul(x_tensor, d_weight)\n",
    "    d_result = tf.nn.bias_add(d_result, d_bias)\n",
    "    \n",
    "    return d_result\n",
    "\n",
    "\n",
    "\"\"\"\n",
    "DON'T MODIFY ANYTHING IN THIS CELL THAT IS BELOW THIS LINE\n",
    "\"\"\"\n",
    "tests.test_output(output)"
   ]
  },
  {
   "cell_type": "markdown",
   "metadata": {
    "deletable": true,
    "editable": true
   },
   "source": [
    "### Create Convolutional Model\n",
    "Implement the function `conv_net` to create a convolutional neural network model. The function takes in a batch of images, `x`, and outputs logits.  Use the layers you created above to create this model:\n",
    "\n",
    "* Apply 1, 2, or 3 Convolution and Max Pool layers\n",
    "* Apply a Flatten Layer\n",
    "* Apply 1, 2, or 3 Fully Connected Layers\n",
    "* Apply an Output Layer\n",
    "* Return the output\n",
    "* Apply [TensorFlow's Dropout](https://www.tensorflow.org/api_docs/python/tf/nn/dropout) to one or more layers in the model using `keep_prob`. "
   ]
  },
  {
   "cell_type": "code",
   "execution_count": 12,
   "metadata": {
    "collapsed": false,
    "deletable": true,
    "editable": true
   },
   "outputs": [
    {
     "name": "stdout",
     "output_type": "stream",
     "text": [
      "Neural Network Built!\n"
     ]
    }
   ],
   "source": [
    "def conv_net(x, keep_prob):\n",
    "    \"\"\"\n",
    "    Create a convolutional neural network model\n",
    "    : x: Placeholder tensor that holds image data.\n",
    "    : keep_prob: Placeholder tensor that hold dropout keep probability.\n",
    "    : return: Tensor that represents logits\n",
    "    \"\"\"\n",
    "    # DONE: Apply 1, 2, or 3 Convolution and Max Pool layers\n",
    "    #    Play around with different number of outputs, kernel size and stride\n",
    "    # Function Definition from Above:\n",
    "    #    conv2d_maxpool(x_tensor, conv_num_outputs, conv_ksize, conv_strides, pool_ksize, pool_strides)\n",
    "    \n",
    "    # layer 1: conv/maxpool: many small filters for detecting simple features\n",
    "    d_result = conv2d_maxpool(\n",
    "        x,\n",
    "        50,     # filters\n",
    "        [3, 3], # conv filter kernel size\n",
    "        [1, 1], # conv filter stride\n",
    "        [2, 2], # maxpool kernel size\n",
    "        [2, 2]  # maxpool stride\n",
    "    )\n",
    "    \n",
    "    # layer 2: conv/maxpool: fewer larger filters for detecting more complex features\n",
    "    d_result = conv2d_maxpool(\n",
    "        d_result,\n",
    "        25,     # filters\n",
    "        [5, 5], # conv filter kernel size\n",
    "        [1, 1], # conv filter stride\n",
    "        [2, 2], # maxpool kernel size\n",
    "        [2, 2]  # maxpool stride\n",
    "    )\n",
    "\n",
    "    # DONE: Apply a Flatten Layer\n",
    "    # Function Definition from Above:\n",
    "    #   flatten(x_tensor)\n",
    "    \n",
    "    d_result = flatten(d_result)\n",
    "    \n",
    "\n",
    "    # DONE: Apply 1, 2, or 3 Fully Connected Layers\n",
    "    #    Play around with different number of outputs\n",
    "    # Function Definition from Above:\n",
    "    #   fully_conn(x_tensor, num_outputs)\n",
    "\n",
    "    # layer 3: fully-connected: dropout entry\n",
    "    d_result = tf.nn.dropout(d_result, keep_prob)\n",
    "    d_result = fully_conn(d_result,\n",
    "                          30)        # nodes\n",
    "\n",
    "    # layer 4: fully-connected: dropout entry\n",
    "    d_result = tf.nn.dropout(d_result, keep_prob)\n",
    "    d_result = fully_conn(d_result,\n",
    "                          30)        # nodes\n",
    "    \n",
    "    # DONE: Apply an Output Layer\n",
    "    #    Set this to the number of classes\n",
    "    # Function Definition from Above:\n",
    "    #   output(x_tensor, num_outputs)\n",
    "    \n",
    "    d_result = output(d_result, 10)\n",
    "    \n",
    "    # DONE: return output\n",
    "    return d_result\n",
    "\n",
    "\n",
    "\"\"\"\n",
    "DON'T MODIFY ANYTHING IN THIS CELL THAT IS BELOW THIS LINE\n",
    "\"\"\"\n",
    "\n",
    "##############################\n",
    "## Build the Neural Network ##\n",
    "##############################\n",
    "\n",
    "# Remove previous weights, bias, inputs, etc..\n",
    "tf.reset_default_graph()\n",
    "\n",
    "# Inputs\n",
    "x = neural_net_image_input((32, 32, 3))\n",
    "y = neural_net_label_input(10)\n",
    "keep_prob = neural_net_keep_prob_input()\n",
    "\n",
    "# Model\n",
    "logits = conv_net(x, keep_prob)\n",
    "\n",
    "# Name logits Tensor, so that is can be loaded from disk after training\n",
    "logits = tf.identity(logits, name='logits')\n",
    "\n",
    "# Loss and Optimizer\n",
    "cost = tf.reduce_mean(tf.nn.softmax_cross_entropy_with_logits(logits=logits, labels=y))\n",
    "optimizer = tf.train.AdamOptimizer().minimize(cost)\n",
    "\n",
    "# Accuracy\n",
    "correct_pred = tf.equal(tf.argmax(logits, 1), tf.argmax(y, 1))\n",
    "accuracy = tf.reduce_mean(tf.cast(correct_pred, tf.float32), name='accuracy')\n",
    "\n",
    "tests.test_conv_net(conv_net)"
   ]
  },
  {
   "cell_type": "markdown",
   "metadata": {
    "deletable": true,
    "editable": true
   },
   "source": [
    "## Train the Neural Network\n",
    "### Single Optimization\n",
    "Implement the function `train_neural_network` to do a single optimization.  The optimization should use `optimizer` to optimize in `session` with a `feed_dict` of the following:\n",
    "* `x` for image input\n",
    "* `y` for labels\n",
    "* `keep_prob` for keep probability for dropout\n",
    "\n",
    "This function will be called for each batch, so `tf.global_variables_initializer()` has already been called.\n",
    "\n",
    "Note: Nothing needs to be returned. This function is only optimizing the neural network."
   ]
  },
  {
   "cell_type": "code",
   "execution_count": 13,
   "metadata": {
    "collapsed": false,
    "deletable": true,
    "editable": true
   },
   "outputs": [
    {
     "name": "stdout",
     "output_type": "stream",
     "text": [
      "Tests Passed\n"
     ]
    }
   ],
   "source": [
    "def train_neural_network(session, optimizer, keep_probability, feature_batch, label_batch):\n",
    "    \"\"\"\n",
    "    Optimize the session on a batch of images and labels\n",
    "    : session: Current TensorFlow session\n",
    "    : optimizer: TensorFlow optimizer function\n",
    "    : keep_probability: keep probability\n",
    "    : feature_batch: Batch of Numpy image data\n",
    "    : label_batch: Batch of Numpy label data\n",
    "    \"\"\"\n",
    "    # DONE\n",
    "    \n",
    "    session.run(optimizer,\n",
    "                feed_dict={x: feature_batch,\n",
    "                           y: label_batch,\n",
    "                           keep_prob: keep_probability})\n",
    "    \n",
    "\n",
    "\"\"\"\n",
    "DON'T MODIFY ANYTHING IN THIS CELL THAT IS BELOW THIS LINE\n",
    "\"\"\"\n",
    "tests.test_train_nn(train_neural_network)"
   ]
  },
  {
   "cell_type": "markdown",
   "metadata": {
    "deletable": true,
    "editable": true
   },
   "source": [
    "### Show Stats\n",
    "Implement the function `print_stats` to print loss and validation accuracy.  Use the global variables `valid_features` and `valid_labels` to calculate validation accuracy.  Use a keep probability of `1.0` to calculate the loss and validation accuracy."
   ]
  },
  {
   "cell_type": "code",
   "execution_count": 14,
   "metadata": {
    "collapsed": false,
    "deletable": true,
    "editable": true
   },
   "outputs": [],
   "source": [
    "def print_stats(session, feature_batch, label_batch, cost, accuracy):\n",
    "    \"\"\"\n",
    "    Print information about loss and validation accuracy\n",
    "    : session: Current TensorFlow session\n",
    "    : feature_batch: Batch of Numpy image data\n",
    "    : label_batch: Batch of Numpy label data\n",
    "    : cost: TensorFlow cost function\n",
    "    : accuracy: TensorFlow accuracy function\n",
    "    \"\"\"\n",
    "    # TODO: Implement Function\n",
    "    \n",
    "    s_cost = session.run(cost,\n",
    "                         feed_dict={x: feature_batch,\n",
    "                                    y: label_batch,\n",
    "                                    keep_prob: 1.0})\n",
    "\n",
    "    s_accuracy = session.run(accuracy,\n",
    "                             feed_dict={x: feature_batch,\n",
    "                                        y: label_batch,\n",
    "                                        keep_prob: 1.0})\n",
    "    \n",
    "    print(\"Loss: {}, Accuracy: {}\".format(s_cost, s_accuracy))\n",
    "    "
   ]
  },
  {
   "cell_type": "markdown",
   "metadata": {
    "deletable": true,
    "editable": true
   },
   "source": [
    "### Hyperparameters\n",
    "Tune the following parameters:\n",
    "* Set `epochs` to the number of iterations until the network stops learning or start overfitting\n",
    "* Set `batch_size` to the highest number that your machine has memory for.  Most people set them to common sizes of memory:\n",
    " * 64\n",
    " * 128\n",
    " * 256\n",
    " * ...\n",
    "* Set `keep_probability` to the probability of keeping a node using dropout"
   ]
  },
  {
   "cell_type": "code",
   "execution_count": 25,
   "metadata": {
    "collapsed": true,
    "deletable": true,
    "editable": true
   },
   "outputs": [],
   "source": [
    "# TODO: Tune Parameters\n",
    "epochs = 70\n",
    "batch_size = 256\n",
    "keep_probability = 0.5"
   ]
  },
  {
   "cell_type": "markdown",
   "metadata": {
    "deletable": true,
    "editable": true
   },
   "source": [
    "### Train on a Single CIFAR-10 Batch\n",
    "Instead of training the neural network on all the CIFAR-10 batches of data, let's use a single batch. This should save time while you iterate on the model to get a better accuracy.  Once the final validation accuracy is 50% or greater, run the model on all the data in the next section."
   ]
  },
  {
   "cell_type": "code",
   "execution_count": 27,
   "metadata": {
    "collapsed": false,
    "deletable": true,
    "editable": true,
    "scrolled": false
   },
   "outputs": [
    {
     "name": "stdout",
     "output_type": "stream",
     "text": [
      "Checking the Training on a Single Batch...\n",
      "Epoch  1, CIFAR-10 Batch 1:  Loss: 2.268883466720581, Accuracy: 0.125\n",
      "Epoch  2, CIFAR-10 Batch 1:  Loss: 2.18578839302063, Accuracy: 0.125\n",
      "Epoch  3, CIFAR-10 Batch 1:  Loss: 2.132594347000122, Accuracy: 0.30000001192092896\n",
      "Epoch  4, CIFAR-10 Batch 1:  Loss: 2.027372121810913, Accuracy: 0.4000000059604645\n",
      "Epoch  5, CIFAR-10 Batch 1:  Loss: 1.9668866395950317, Accuracy: 0.3500000238418579\n",
      "Epoch  6, CIFAR-10 Batch 1:  Loss: 1.8922200202941895, Accuracy: 0.2750000059604645\n",
      "Epoch  7, CIFAR-10 Batch 1:  Loss: 1.8309922218322754, Accuracy: 0.3500000238418579\n",
      "Epoch  8, CIFAR-10 Batch 1:  Loss: 1.8871310949325562, Accuracy: 0.30000001192092896\n",
      "Epoch  9, CIFAR-10 Batch 1:  Loss: 1.7255593538284302, Accuracy: 0.375\n",
      "Epoch 10, CIFAR-10 Batch 1:  Loss: 1.6612675189971924, Accuracy: 0.375\n",
      "Epoch 11, CIFAR-10 Batch 1:  Loss: 1.6014049053192139, Accuracy: 0.4750000238418579\n",
      "Epoch 12, CIFAR-10 Batch 1:  Loss: 1.5315648317337036, Accuracy: 0.45000001788139343\n",
      "Epoch 13, CIFAR-10 Batch 1:  Loss: 1.5068222284317017, Accuracy: 0.45000001788139343\n",
      "Epoch 14, CIFAR-10 Batch 1:  Loss: 1.429218053817749, Accuracy: 0.4750000238418579\n",
      "Epoch 15, CIFAR-10 Batch 1:  Loss: 1.4124443531036377, Accuracy: 0.5\n",
      "Epoch 16, CIFAR-10 Batch 1:  Loss: 1.3420073986053467, Accuracy: 0.5\n",
      "Epoch 17, CIFAR-10 Batch 1:  Loss: 1.2921630144119263, Accuracy: 0.5750000476837158\n",
      "Epoch 18, CIFAR-10 Batch 1:  Loss: 1.240036964416504, Accuracy: 0.6000000238418579\n",
      "Epoch 19, CIFAR-10 Batch 1:  Loss: 1.191343069076538, Accuracy: 0.550000011920929\n",
      "Epoch 20, CIFAR-10 Batch 1:  Loss: 1.160381555557251, Accuracy: 0.675000011920929\n",
      "Epoch 21, CIFAR-10 Batch 1:  Loss: 1.1574511528015137, Accuracy: 0.7000000476837158\n",
      "Epoch 22, CIFAR-10 Batch 1:  Loss: 1.0924378633499146, Accuracy: 0.625\n",
      "Epoch 23, CIFAR-10 Batch 1:  Loss: 1.068897008895874, Accuracy: 0.625\n",
      "Epoch 24, CIFAR-10 Batch 1:  Loss: 1.0977206230163574, Accuracy: 0.7000000476837158\n",
      "Epoch 25, CIFAR-10 Batch 1:  Loss: 1.0019420385360718, Accuracy: 0.7749999761581421\n",
      "Epoch 26, CIFAR-10 Batch 1:  Loss: 0.965997040271759, Accuracy: 0.7749999761581421\n",
      "Epoch 27, CIFAR-10 Batch 1:  Loss: 0.9805514216423035, Accuracy: 0.7250000238418579\n",
      "Epoch 28, CIFAR-10 Batch 1:  Loss: 0.9402072429656982, Accuracy: 0.7749999761581421\n",
      "Epoch 29, CIFAR-10 Batch 1:  Loss: 0.9105557203292847, Accuracy: 0.7250000238418579\n",
      "Epoch 30, CIFAR-10 Batch 1:  Loss: 0.9077492356300354, Accuracy: 0.7749999761581421\n",
      "Epoch 31, CIFAR-10 Batch 1:  Loss: 0.8591640591621399, Accuracy: 0.7749999761581421\n",
      "Epoch 32, CIFAR-10 Batch 1:  Loss: 0.8591904640197754, Accuracy: 0.8000000715255737\n",
      "Epoch 33, CIFAR-10 Batch 1:  Loss: 0.8575199246406555, Accuracy: 0.7250000238418579\n",
      "Epoch 34, CIFAR-10 Batch 1:  Loss: 0.8151796460151672, Accuracy: 0.75\n",
      "Epoch 35, CIFAR-10 Batch 1:  Loss: 0.7939567565917969, Accuracy: 0.75\n",
      "Epoch 36, CIFAR-10 Batch 1:  Loss: 0.7995842695236206, Accuracy: 0.7250000238418579\n",
      "Epoch 37, CIFAR-10 Batch 1:  Loss: 0.7709088325500488, Accuracy: 0.7250000238418579\n",
      "Epoch 38, CIFAR-10 Batch 1:  Loss: 0.7534409761428833, Accuracy: 0.7750000357627869\n",
      "Epoch 39, CIFAR-10 Batch 1:  Loss: 0.7414591312408447, Accuracy: 0.7749999761581421\n",
      "Epoch 40, CIFAR-10 Batch 1:  Loss: 0.7596158385276794, Accuracy: 0.7500000596046448\n",
      "Epoch 41, CIFAR-10 Batch 1:  Loss: 0.7006484270095825, Accuracy: 0.8500000238418579\n",
      "Epoch 42, CIFAR-10 Batch 1:  Loss: 0.6977745294570923, Accuracy: 0.8250000476837158\n",
      "Epoch 43, CIFAR-10 Batch 1:  Loss: 0.7137306928634644, Accuracy: 0.8250000476837158\n",
      "Epoch 44, CIFAR-10 Batch 1:  Loss: 0.6595423221588135, Accuracy: 0.824999988079071\n",
      "Epoch 45, CIFAR-10 Batch 1:  Loss: 0.6545192003250122, Accuracy: 0.8500000238418579\n",
      "Epoch 46, CIFAR-10 Batch 1:  Loss: 0.6747429370880127, Accuracy: 0.8000000715255737\n",
      "Epoch 47, CIFAR-10 Batch 1:  Loss: 0.6756865978240967, Accuracy: 0.8250000476837158\n",
      "Epoch 48, CIFAR-10 Batch 1:  Loss: 0.6405096650123596, Accuracy: 0.8500000238418579\n",
      "Epoch 49, CIFAR-10 Batch 1:  Loss: 0.634729266166687, Accuracy: 0.8250000476837158\n",
      "Epoch 50, CIFAR-10 Batch 1:  Loss: 0.6075975894927979, Accuracy: 0.8500000238418579\n",
      "Epoch 51, CIFAR-10 Batch 1:  Loss: 0.6253244280815125, Accuracy: 0.8250000476837158\n",
      "Epoch 52, CIFAR-10 Batch 1:  Loss: 0.6192098259925842, Accuracy: 0.8500000238418579\n",
      "Epoch 53, CIFAR-10 Batch 1:  Loss: 0.6062560677528381, Accuracy: 0.8500000834465027\n",
      "Epoch 54, CIFAR-10 Batch 1:  Loss: 0.5944966077804565, Accuracy: 0.8250000476837158\n",
      "Epoch 55, CIFAR-10 Batch 1:  Loss: 0.5956701040267944, Accuracy: 0.8250000476837158\n",
      "Epoch 56, CIFAR-10 Batch 1:  Loss: 0.5817129611968994, Accuracy: 0.8500000238418579\n",
      "Epoch 57, CIFAR-10 Batch 1:  Loss: 0.5865733623504639, Accuracy: 0.8250000476837158\n",
      "Epoch 58, CIFAR-10 Batch 1:  Loss: 0.5498327016830444, Accuracy: 0.8250000476837158\n",
      "Epoch 59, CIFAR-10 Batch 1:  Loss: 0.5716829895973206, Accuracy: 0.8500000238418579\n",
      "Epoch 60, CIFAR-10 Batch 1:  Loss: 0.5624250769615173, Accuracy: 0.8500000238418579\n",
      "Epoch 61, CIFAR-10 Batch 1:  Loss: 0.5905194878578186, Accuracy: 0.8250000476837158\n",
      "Epoch 62, CIFAR-10 Batch 1:  Loss: 0.5916288495063782, Accuracy: 0.800000011920929\n",
      "Epoch 63, CIFAR-10 Batch 1:  Loss: 0.5249174237251282, Accuracy: 0.8500000238418579\n",
      "Epoch 64, CIFAR-10 Batch 1:  Loss: 0.5449147820472717, Accuracy: 0.8500000238418579\n",
      "Epoch 65, CIFAR-10 Batch 1:  Loss: 0.5471224784851074, Accuracy: 0.875\n",
      "Epoch 66, CIFAR-10 Batch 1:  Loss: 0.5629493594169617, Accuracy: 0.8000000715255737\n",
      "Epoch 67, CIFAR-10 Batch 1:  Loss: 0.5345450043678284, Accuracy: 0.8750000596046448\n",
      "Epoch 68, CIFAR-10 Batch 1:  Loss: 0.5499479174613953, Accuracy: 0.8250000476837158\n",
      "Epoch 69, CIFAR-10 Batch 1:  Loss: 0.5229736566543579, Accuracy: 0.8500000834465027\n",
      "Epoch 70, CIFAR-10 Batch 1:  Loss: 0.5033456087112427, Accuracy: 0.8750000596046448\n"
     ]
    }
   ],
   "source": [
    "\"\"\"\n",
    "DON'T MODIFY ANYTHING IN THIS CELL\n",
    "\"\"\"\n",
    "print('Checking the Training on a Single Batch...')\n",
    "with tf.Session() as sess:\n",
    "    # Initializing the variables\n",
    "    sess.run(tf.global_variables_initializer())\n",
    "    \n",
    "    # Training cycle\n",
    "    for epoch in range(epochs):\n",
    "        batch_i = 1\n",
    "        for batch_features, batch_labels in helper.load_preprocess_training_batch(batch_i, batch_size):\n",
    "            train_neural_network(sess, optimizer, keep_probability, batch_features, batch_labels)\n",
    "        print('Epoch {:>2}, CIFAR-10 Batch {}:  '.format(epoch + 1, batch_i), end='')\n",
    "        print_stats(sess, batch_features, batch_labels, cost, accuracy)"
   ]
  },
  {
   "cell_type": "markdown",
   "metadata": {
    "deletable": true,
    "editable": true
   },
   "source": [
    "### Fully Train the Model\n",
    "Now that you got a good accuracy with a single CIFAR-10 batch, try it with all five batches."
   ]
  },
  {
   "cell_type": "code",
   "execution_count": 28,
   "metadata": {
    "collapsed": false,
    "deletable": true,
    "editable": true,
    "scrolled": false
   },
   "outputs": [
    {
     "name": "stdout",
     "output_type": "stream",
     "text": [
      "Training...\n",
      "Epoch  1, CIFAR-10 Batch 1:  Loss: 2.29086971282959, Accuracy: 0.17499999701976776\n",
      "Epoch  1, CIFAR-10 Batch 2:  Loss: 2.0790748596191406, Accuracy: 0.30000001192092896\n",
      "Epoch  1, CIFAR-10 Batch 3:  Loss: 1.7680113315582275, Accuracy: 0.32500001788139343\n",
      "Epoch  1, CIFAR-10 Batch 4:  Loss: 1.7842391729354858, Accuracy: 0.30000001192092896\n",
      "Epoch  1, CIFAR-10 Batch 5:  Loss: 1.7905629873275757, Accuracy: 0.32499998807907104\n",
      "Epoch  2, CIFAR-10 Batch 1:  Loss: 1.9589390754699707, Accuracy: 0.3500000238418579\n",
      "Epoch  2, CIFAR-10 Batch 2:  Loss: 1.7916172742843628, Accuracy: 0.3500000238418579\n",
      "Epoch  2, CIFAR-10 Batch 3:  Loss: 1.559746503829956, Accuracy: 0.4749999940395355\n",
      "Epoch  2, CIFAR-10 Batch 4:  Loss: 1.6114579439163208, Accuracy: 0.3750000298023224\n",
      "Epoch  2, CIFAR-10 Batch 5:  Loss: 1.6062617301940918, Accuracy: 0.4750000238418579\n",
      "Epoch  3, CIFAR-10 Batch 1:  Loss: 1.6999939680099487, Accuracy: 0.45000001788139343\n",
      "Epoch  3, CIFAR-10 Batch 2:  Loss: 1.5370888710021973, Accuracy: 0.5000000596046448\n",
      "Epoch  3, CIFAR-10 Batch 3:  Loss: 1.377012848854065, Accuracy: 0.45000001788139343\n",
      "Epoch  3, CIFAR-10 Batch 4:  Loss: 1.4695638418197632, Accuracy: 0.45000001788139343\n",
      "Epoch  3, CIFAR-10 Batch 5:  Loss: 1.4534587860107422, Accuracy: 0.4749999940395355\n",
      "Epoch  4, CIFAR-10 Batch 1:  Loss: 1.5677075386047363, Accuracy: 0.4750000238418579\n",
      "Epoch  4, CIFAR-10 Batch 2:  Loss: 1.4086089134216309, Accuracy: 0.550000011920929\n",
      "Epoch  4, CIFAR-10 Batch 3:  Loss: 1.2457846403121948, Accuracy: 0.5\n",
      "Epoch  4, CIFAR-10 Batch 4:  Loss: 1.3950949907302856, Accuracy: 0.45000001788139343\n",
      "Epoch  4, CIFAR-10 Batch 5:  Loss: 1.394446849822998, Accuracy: 0.5\n",
      "Epoch  5, CIFAR-10 Batch 1:  Loss: 1.4286282062530518, Accuracy: 0.5249999761581421\n",
      "Epoch  5, CIFAR-10 Batch 2:  Loss: 1.3525776863098145, Accuracy: 0.5249999761581421\n",
      "Epoch  5, CIFAR-10 Batch 3:  Loss: 1.2131125926971436, Accuracy: 0.4750000238418579\n",
      "Epoch  5, CIFAR-10 Batch 4:  Loss: 1.327774167060852, Accuracy: 0.5\n",
      "Epoch  5, CIFAR-10 Batch 5:  Loss: 1.300382375717163, Accuracy: 0.574999988079071\n",
      "Epoch  6, CIFAR-10 Batch 1:  Loss: 1.3557335138320923, Accuracy: 0.4750000238418579\n",
      "Epoch  6, CIFAR-10 Batch 2:  Loss: 1.2935569286346436, Accuracy: 0.5250000357627869\n",
      "Epoch  6, CIFAR-10 Batch 3:  Loss: 1.1554367542266846, Accuracy: 0.5249999761581421\n",
      "Epoch  6, CIFAR-10 Batch 4:  Loss: 1.289185643196106, Accuracy: 0.5\n",
      "Epoch  6, CIFAR-10 Batch 5:  Loss: 1.2278403043746948, Accuracy: 0.6000000238418579\n",
      "Epoch  7, CIFAR-10 Batch 1:  Loss: 1.2729957103729248, Accuracy: 0.5750000476837158\n",
      "Epoch  7, CIFAR-10 Batch 2:  Loss: 1.2855502367019653, Accuracy: 0.45000001788139343\n",
      "Epoch  7, CIFAR-10 Batch 3:  Loss: 1.1596829891204834, Accuracy: 0.5\n",
      "Epoch  7, CIFAR-10 Batch 4:  Loss: 1.2481969594955444, Accuracy: 0.4750000238418579\n",
      "Epoch  7, CIFAR-10 Batch 5:  Loss: 1.2255579233169556, Accuracy: 0.574999988079071\n",
      "Epoch  8, CIFAR-10 Batch 1:  Loss: 1.2268457412719727, Accuracy: 0.550000011920929\n",
      "Epoch  8, CIFAR-10 Batch 2:  Loss: 1.228826642036438, Accuracy: 0.4749999940395355\n",
      "Epoch  8, CIFAR-10 Batch 3:  Loss: 1.1025878190994263, Accuracy: 0.4750000238418579\n",
      "Epoch  8, CIFAR-10 Batch 4:  Loss: 1.1816270351409912, Accuracy: 0.5750000476837158\n",
      "Epoch  8, CIFAR-10 Batch 5:  Loss: 1.1878305673599243, Accuracy: 0.6000000238418579\n",
      "Epoch  9, CIFAR-10 Batch 1:  Loss: 1.2213468551635742, Accuracy: 0.5750000476837158\n",
      "Epoch  9, CIFAR-10 Batch 2:  Loss: 1.218192458152771, Accuracy: 0.5249999761581421\n",
      "Epoch  9, CIFAR-10 Batch 3:  Loss: 1.0779224634170532, Accuracy: 0.550000011920929\n",
      "Epoch  9, CIFAR-10 Batch 4:  Loss: 1.1220656633377075, Accuracy: 0.5750000476837158\n",
      "Epoch  9, CIFAR-10 Batch 5:  Loss: 1.1068644523620605, Accuracy: 0.625\n",
      "Epoch 10, CIFAR-10 Batch 1:  Loss: 1.1439931392669678, Accuracy: 0.6000000238418579\n",
      "Epoch 10, CIFAR-10 Batch 2:  Loss: 1.134992003440857, Accuracy: 0.5\n",
      "Epoch 10, CIFAR-10 Batch 3:  Loss: 1.0211232900619507, Accuracy: 0.5\n",
      "Epoch 10, CIFAR-10 Batch 4:  Loss: 1.09666109085083, Accuracy: 0.625\n",
      "Epoch 10, CIFAR-10 Batch 5:  Loss: 1.0791912078857422, Accuracy: 0.675000011920929\n",
      "Epoch 11, CIFAR-10 Batch 1:  Loss: 1.079030156135559, Accuracy: 0.6000000238418579\n",
      "Epoch 11, CIFAR-10 Batch 2:  Loss: 1.1024171113967896, Accuracy: 0.550000011920929\n",
      "Epoch 11, CIFAR-10 Batch 3:  Loss: 0.981586217880249, Accuracy: 0.574999988079071\n",
      "Epoch 11, CIFAR-10 Batch 4:  Loss: 1.0317376852035522, Accuracy: 0.550000011920929\n",
      "Epoch 11, CIFAR-10 Batch 5:  Loss: 1.0307739973068237, Accuracy: 0.6500000357627869\n",
      "Epoch 12, CIFAR-10 Batch 1:  Loss: 1.0413854122161865, Accuracy: 0.6500000357627869\n",
      "Epoch 12, CIFAR-10 Batch 2:  Loss: 1.1186445951461792, Accuracy: 0.6000000238418579\n",
      "Epoch 12, CIFAR-10 Batch 3:  Loss: 0.9773463010787964, Accuracy: 0.550000011920929\n",
      "Epoch 12, CIFAR-10 Batch 4:  Loss: 1.0301756858825684, Accuracy: 0.6000000238418579\n",
      "Epoch 12, CIFAR-10 Batch 5:  Loss: 0.9778211116790771, Accuracy: 0.625\n",
      "Epoch 13, CIFAR-10 Batch 1:  Loss: 1.0530321598052979, Accuracy: 0.5750000476837158\n",
      "Epoch 13, CIFAR-10 Batch 2:  Loss: 1.0750796794891357, Accuracy: 0.550000011920929\n",
      "Epoch 13, CIFAR-10 Batch 3:  Loss: 0.9423434138298035, Accuracy: 0.625\n",
      "Epoch 13, CIFAR-10 Batch 4:  Loss: 0.9550621509552002, Accuracy: 0.625\n",
      "Epoch 13, CIFAR-10 Batch 5:  Loss: 0.9554442167282104, Accuracy: 0.7749999761581421\n",
      "Epoch 14, CIFAR-10 Batch 1:  Loss: 0.9543399214744568, Accuracy: 0.6500000357627869\n",
      "Epoch 14, CIFAR-10 Batch 2:  Loss: 1.0781716108322144, Accuracy: 0.6000000238418579\n",
      "Epoch 14, CIFAR-10 Batch 3:  Loss: 0.9313821792602539, Accuracy: 0.625\n",
      "Epoch 14, CIFAR-10 Batch 4:  Loss: 0.9603276252746582, Accuracy: 0.6000000238418579\n",
      "Epoch 14, CIFAR-10 Batch 5:  Loss: 0.9360553622245789, Accuracy: 0.7250000238418579\n",
      "Epoch 15, CIFAR-10 Batch 1:  Loss: 0.9732843637466431, Accuracy: 0.6500000357627869\n",
      "Epoch 15, CIFAR-10 Batch 2:  Loss: 0.9801182150840759, Accuracy: 0.550000011920929\n",
      "Epoch 15, CIFAR-10 Batch 3:  Loss: 0.9027280211448669, Accuracy: 0.6500000357627869\n",
      "Epoch 15, CIFAR-10 Batch 4:  Loss: 0.9378829002380371, Accuracy: 0.625\n",
      "Epoch 15, CIFAR-10 Batch 5:  Loss: 0.8925531506538391, Accuracy: 0.7749999761581421\n",
      "Epoch 16, CIFAR-10 Batch 1:  Loss: 0.9286977052688599, Accuracy: 0.675000011920929\n",
      "Epoch 16, CIFAR-10 Batch 2:  Loss: 0.9618383646011353, Accuracy: 0.625\n",
      "Epoch 16, CIFAR-10 Batch 3:  Loss: 0.8875353932380676, Accuracy: 0.7250000238418579\n",
      "Epoch 16, CIFAR-10 Batch 4:  Loss: 0.9236383438110352, Accuracy: 0.7000000476837158\n",
      "Epoch 16, CIFAR-10 Batch 5:  Loss: 0.8758707046508789, Accuracy: 0.7250000238418579\n",
      "Epoch 17, CIFAR-10 Batch 1:  Loss: 0.9338475465774536, Accuracy: 0.675000011920929\n",
      "Epoch 17, CIFAR-10 Batch 2:  Loss: 0.9642121195793152, Accuracy: 0.6499999761581421\n",
      "Epoch 17, CIFAR-10 Batch 3:  Loss: 0.8199408054351807, Accuracy: 0.7500000596046448\n",
      "Epoch 17, CIFAR-10 Batch 4:  Loss: 0.8558511734008789, Accuracy: 0.6500000357627869\n",
      "Epoch 17, CIFAR-10 Batch 5:  Loss: 0.8565337657928467, Accuracy: 0.7250000238418579\n",
      "Epoch 18, CIFAR-10 Batch 1:  Loss: 0.9243853092193604, Accuracy: 0.7999999523162842\n",
      "Epoch 18, CIFAR-10 Batch 2:  Loss: 0.8900192975997925, Accuracy: 0.6000000238418579\n",
      "Epoch 18, CIFAR-10 Batch 3:  Loss: 0.8489074110984802, Accuracy: 0.699999988079071\n",
      "Epoch 18, CIFAR-10 Batch 4:  Loss: 0.8442736864089966, Accuracy: 0.6750000715255737\n",
      "Epoch 18, CIFAR-10 Batch 5:  Loss: 0.870232880115509, Accuracy: 0.7749999761581421\n",
      "Epoch 19, CIFAR-10 Batch 1:  Loss: 0.8882059454917908, Accuracy: 0.7749999761581421\n",
      "Epoch 19, CIFAR-10 Batch 2:  Loss: 0.9005452394485474, Accuracy: 0.7250000238418579\n",
      "Epoch 19, CIFAR-10 Batch 3:  Loss: 0.7939832210540771, Accuracy: 0.7250000238418579\n",
      "Epoch 19, CIFAR-10 Batch 4:  Loss: 0.8398531675338745, Accuracy: 0.6750000715255737\n",
      "Epoch 19, CIFAR-10 Batch 5:  Loss: 0.8431259393692017, Accuracy: 0.7250000238418579\n",
      "Epoch 20, CIFAR-10 Batch 1:  Loss: 0.9317746162414551, Accuracy: 0.7000000476837158\n",
      "Epoch 20, CIFAR-10 Batch 2:  Loss: 0.8756400346755981, Accuracy: 0.7000000476837158\n",
      "Epoch 20, CIFAR-10 Batch 3:  Loss: 0.7958893179893494, Accuracy: 0.7500000596046448\n",
      "Epoch 20, CIFAR-10 Batch 4:  Loss: 0.7878884077072144, Accuracy: 0.7250000238418579\n",
      "Epoch 20, CIFAR-10 Batch 5:  Loss: 0.8409953713417053, Accuracy: 0.7749999761581421\n",
      "Epoch 21, CIFAR-10 Batch 1:  Loss: 0.8795995116233826, Accuracy: 0.75\n",
      "Epoch 21, CIFAR-10 Batch 2:  Loss: 0.8249455690383911, Accuracy: 0.7250000238418579\n",
      "Epoch 21, CIFAR-10 Batch 3:  Loss: 0.7976818084716797, Accuracy: 0.699999988079071\n",
      "Epoch 21, CIFAR-10 Batch 4:  Loss: 0.7895705699920654, Accuracy: 0.7500000596046448\n",
      "Epoch 21, CIFAR-10 Batch 5:  Loss: 0.8061439990997314, Accuracy: 0.8000000715255737\n",
      "Epoch 22, CIFAR-10 Batch 1:  Loss: 0.8429988622665405, Accuracy: 0.7250000238418579\n",
      "Epoch 22, CIFAR-10 Batch 2:  Loss: 0.8057566285133362, Accuracy: 0.7750000953674316\n",
      "Epoch 22, CIFAR-10 Batch 3:  Loss: 0.7294415235519409, Accuracy: 0.7500000596046448\n",
      "Epoch 22, CIFAR-10 Batch 4:  Loss: 0.8094550371170044, Accuracy: 0.7250000238418579\n",
      "Epoch 22, CIFAR-10 Batch 5:  Loss: 0.7776994705200195, Accuracy: 0.8500000238418579\n",
      "Epoch 23, CIFAR-10 Batch 1:  Loss: 0.8599324226379395, Accuracy: 0.7749999761581421\n",
      "Epoch 23, CIFAR-10 Batch 2:  Loss: 0.7585691213607788, Accuracy: 0.8000000715255737\n",
      "Epoch 23, CIFAR-10 Batch 3:  Loss: 0.7804830074310303, Accuracy: 0.7750000357627869\n",
      "Epoch 23, CIFAR-10 Batch 4:  Loss: 0.7800877690315247, Accuracy: 0.800000011920929\n",
      "Epoch 23, CIFAR-10 Batch 5:  Loss: 0.804463267326355, Accuracy: 0.75\n",
      "Epoch 24, CIFAR-10 Batch 1:  Loss: 0.8677347898483276, Accuracy: 0.8000000715255737\n",
      "Epoch 24, CIFAR-10 Batch 2:  Loss: 0.7644637227058411, Accuracy: 0.75\n",
      "Epoch 24, CIFAR-10 Batch 3:  Loss: 0.776101291179657, Accuracy: 0.7000000476837158\n",
      "Epoch 24, CIFAR-10 Batch 4:  Loss: 0.8039866089820862, Accuracy: 0.7250000238418579\n",
      "Epoch 24, CIFAR-10 Batch 5:  Loss: 0.7936798334121704, Accuracy: 0.7749999761581421\n",
      "Epoch 25, CIFAR-10 Batch 1:  Loss: 0.7939704656600952, Accuracy: 0.8250000476837158\n",
      "Epoch 25, CIFAR-10 Batch 2:  Loss: 0.7778424620628357, Accuracy: 0.7500000596046448\n",
      "Epoch 25, CIFAR-10 Batch 3:  Loss: 0.7246975898742676, Accuracy: 0.7750000357627869\n",
      "Epoch 25, CIFAR-10 Batch 4:  Loss: 0.7565138339996338, Accuracy: 0.800000011920929\n",
      "Epoch 25, CIFAR-10 Batch 5:  Loss: 0.8275046944618225, Accuracy: 0.7250000238418579\n",
      "Epoch 26, CIFAR-10 Batch 1:  Loss: 0.8339903354644775, Accuracy: 0.8000000715255737\n",
      "Epoch 26, CIFAR-10 Batch 2:  Loss: 0.7860767245292664, Accuracy: 0.75\n",
      "Epoch 26, CIFAR-10 Batch 3:  Loss: 0.7184723615646362, Accuracy: 0.7750000357627869\n",
      "Epoch 26, CIFAR-10 Batch 4:  Loss: 0.7714622616767883, Accuracy: 0.7749999761581421\n",
      "Epoch 26, CIFAR-10 Batch 5:  Loss: 0.7738276720046997, Accuracy: 0.8000000715255737\n",
      "Epoch 27, CIFAR-10 Batch 1:  Loss: 0.8010291457176208, Accuracy: 0.7749999761581421\n",
      "Epoch 27, CIFAR-10 Batch 2:  Loss: 0.7445653676986694, Accuracy: 0.8250000476837158\n",
      "Epoch 27, CIFAR-10 Batch 3:  Loss: 0.680658757686615, Accuracy: 0.7750000357627869\n",
      "Epoch 27, CIFAR-10 Batch 4:  Loss: 0.7128555774688721, Accuracy: 0.7749999761581421\n",
      "Epoch 27, CIFAR-10 Batch 5:  Loss: 0.7783032655715942, Accuracy: 0.8000000715255737\n",
      "Epoch 28, CIFAR-10 Batch 1:  Loss: 0.8329247832298279, Accuracy: 0.75\n",
      "Epoch 28, CIFAR-10 Batch 2:  Loss: 0.7844451665878296, Accuracy: 0.75\n",
      "Epoch 28, CIFAR-10 Batch 3:  Loss: 0.6675456762313843, Accuracy: 0.800000011920929\n",
      "Epoch 28, CIFAR-10 Batch 4:  Loss: 0.7352657914161682, Accuracy: 0.800000011920929\n",
      "Epoch 28, CIFAR-10 Batch 5:  Loss: 0.7720795273780823, Accuracy: 0.8000000715255737\n",
      "Epoch 29, CIFAR-10 Batch 1:  Loss: 0.8098387122154236, Accuracy: 0.8250000476837158\n",
      "Epoch 29, CIFAR-10 Batch 2:  Loss: 0.7398731112480164, Accuracy: 0.875\n",
      "Epoch 29, CIFAR-10 Batch 3:  Loss: 0.6712144613265991, Accuracy: 0.800000011920929\n",
      "Epoch 29, CIFAR-10 Batch 4:  Loss: 0.684023380279541, Accuracy: 0.8500000238418579\n",
      "Epoch 29, CIFAR-10 Batch 5:  Loss: 0.7673439979553223, Accuracy: 0.8250000476837158\n",
      "Epoch 30, CIFAR-10 Batch 1:  Loss: 0.8450983166694641, Accuracy: 0.7750000357627869\n",
      "Epoch 30, CIFAR-10 Batch 2:  Loss: 0.7004386186599731, Accuracy: 0.8000000715255737\n",
      "Epoch 30, CIFAR-10 Batch 3:  Loss: 0.6688395142555237, Accuracy: 0.800000011920929\n",
      "Epoch 30, CIFAR-10 Batch 4:  Loss: 0.6988267302513123, Accuracy: 0.8499999642372131\n",
      "Epoch 30, CIFAR-10 Batch 5:  Loss: 0.7204315662384033, Accuracy: 0.875\n",
      "Epoch 31, CIFAR-10 Batch 1:  Loss: 0.8206849694252014, Accuracy: 0.7250000238418579\n",
      "Epoch 31, CIFAR-10 Batch 2:  Loss: 0.6849802136421204, Accuracy: 0.8500000238418579\n",
      "Epoch 31, CIFAR-10 Batch 3:  Loss: 0.6877768635749817, Accuracy: 0.8750000596046448\n",
      "Epoch 31, CIFAR-10 Batch 4:  Loss: 0.728495717048645, Accuracy: 0.824999988079071\n",
      "Epoch 31, CIFAR-10 Batch 5:  Loss: 0.7290295362472534, Accuracy: 0.8500000238418579\n",
      "Epoch 32, CIFAR-10 Batch 1:  Loss: 0.7769796252250671, Accuracy: 0.8500000238418579\n",
      "Epoch 32, CIFAR-10 Batch 2:  Loss: 0.7418498992919922, Accuracy: 0.7250000238418579\n",
      "Epoch 32, CIFAR-10 Batch 3:  Loss: 0.6715503334999084, Accuracy: 0.8250000476837158\n",
      "Epoch 32, CIFAR-10 Batch 4:  Loss: 0.6925304532051086, Accuracy: 0.8250000476837158\n",
      "Epoch 32, CIFAR-10 Batch 5:  Loss: 0.6847786903381348, Accuracy: 0.9000000357627869\n",
      "Epoch 33, CIFAR-10 Batch 1:  Loss: 0.7819042205810547, Accuracy: 0.8250000476837158\n",
      "Epoch 33, CIFAR-10 Batch 2:  Loss: 0.7193515300750732, Accuracy: 0.75\n",
      "Epoch 33, CIFAR-10 Batch 3:  Loss: 0.6593980193138123, Accuracy: 0.8250000476837158\n",
      "Epoch 33, CIFAR-10 Batch 4:  Loss: 0.6569694876670837, Accuracy: 0.8500000238418579\n",
      "Epoch 33, CIFAR-10 Batch 5:  Loss: 0.7170863747596741, Accuracy: 0.7750000953674316\n",
      "Epoch 34, CIFAR-10 Batch 1:  Loss: 0.740505576133728, Accuracy: 0.8250000476837158\n",
      "Epoch 34, CIFAR-10 Batch 2:  Loss: 0.7082216143608093, Accuracy: 0.8000000715255737\n",
      "Epoch 34, CIFAR-10 Batch 3:  Loss: 0.7037724852561951, Accuracy: 0.8250000476837158\n",
      "Epoch 34, CIFAR-10 Batch 4:  Loss: 0.6812304258346558, Accuracy: 0.8500000238418579\n",
      "Epoch 34, CIFAR-10 Batch 5:  Loss: 0.7027924656867981, Accuracy: 0.8500000238418579\n",
      "Epoch 35, CIFAR-10 Batch 1:  Loss: 0.7547881603240967, Accuracy: 0.8250000476837158\n",
      "Epoch 35, CIFAR-10 Batch 2:  Loss: 0.7032947540283203, Accuracy: 0.8500000238418579\n",
      "Epoch 35, CIFAR-10 Batch 3:  Loss: 0.6630614995956421, Accuracy: 0.9000000357627869\n",
      "Epoch 35, CIFAR-10 Batch 4:  Loss: 0.6587333083152771, Accuracy: 0.875\n",
      "Epoch 35, CIFAR-10 Batch 5:  Loss: 0.7121354341506958, Accuracy: 0.8000000715255737\n",
      "Epoch 36, CIFAR-10 Batch 1:  Loss: 0.7713164687156677, Accuracy: 0.8500000238418579\n",
      "Epoch 36, CIFAR-10 Batch 2:  Loss: 0.6855579614639282, Accuracy: 0.8250000476837158\n",
      "Epoch 36, CIFAR-10 Batch 3:  Loss: 0.632096529006958, Accuracy: 0.8750000596046448\n",
      "Epoch 36, CIFAR-10 Batch 4:  Loss: 0.692082405090332, Accuracy: 0.8250000476837158\n",
      "Epoch 36, CIFAR-10 Batch 5:  Loss: 0.6861327290534973, Accuracy: 0.8750000596046448\n",
      "Epoch 37, CIFAR-10 Batch 1:  Loss: 0.7575828433036804, Accuracy: 0.75\n",
      "Epoch 37, CIFAR-10 Batch 2:  Loss: 0.6478884816169739, Accuracy: 0.8500000834465027\n",
      "Epoch 37, CIFAR-10 Batch 3:  Loss: 0.647268533706665, Accuracy: 0.7999999523162842\n",
      "Epoch 37, CIFAR-10 Batch 4:  Loss: 0.6255605220794678, Accuracy: 0.875\n",
      "Epoch 37, CIFAR-10 Batch 5:  Loss: 0.63190758228302, Accuracy: 0.8750000596046448\n",
      "Epoch 38, CIFAR-10 Batch 1:  Loss: 0.7155826687812805, Accuracy: 0.875\n",
      "Epoch 38, CIFAR-10 Batch 2:  Loss: 0.668359100818634, Accuracy: 0.800000011920929\n",
      "Epoch 38, CIFAR-10 Batch 3:  Loss: 0.6544947624206543, Accuracy: 0.8750000596046448\n",
      "Epoch 38, CIFAR-10 Batch 4:  Loss: 0.6524375677108765, Accuracy: 0.8499999642372131\n",
      "Epoch 38, CIFAR-10 Batch 5:  Loss: 0.6519586443901062, Accuracy: 0.8999999761581421\n",
      "Epoch 39, CIFAR-10 Batch 1:  Loss: 0.7033730149269104, Accuracy: 0.8250000476837158\n",
      "Epoch 39, CIFAR-10 Batch 2:  Loss: 0.6344115734100342, Accuracy: 0.8250000476837158\n",
      "Epoch 39, CIFAR-10 Batch 3:  Loss: 0.6465730667114258, Accuracy: 0.925000011920929\n",
      "Epoch 39, CIFAR-10 Batch 4:  Loss: 0.6452668905258179, Accuracy: 0.8750000596046448\n",
      "Epoch 39, CIFAR-10 Batch 5:  Loss: 0.6381121873855591, Accuracy: 0.9000000357627869\n",
      "Epoch 40, CIFAR-10 Batch 1:  Loss: 0.7459738254547119, Accuracy: 0.8250000476837158\n",
      "Epoch 40, CIFAR-10 Batch 2:  Loss: 0.6541942358016968, Accuracy: 0.8250000476837158\n",
      "Epoch 40, CIFAR-10 Batch 3:  Loss: 0.6264876127243042, Accuracy: 0.8999999761581421\n",
      "Epoch 40, CIFAR-10 Batch 4:  Loss: 0.6370071172714233, Accuracy: 0.8750000596046448\n",
      "Epoch 40, CIFAR-10 Batch 5:  Loss: 0.6659747958183289, Accuracy: 0.8500000238418579\n",
      "Epoch 41, CIFAR-10 Batch 1:  Loss: 0.7426573634147644, Accuracy: 0.800000011920929\n",
      "Epoch 41, CIFAR-10 Batch 2:  Loss: 0.6270261406898499, Accuracy: 0.8750000596046448\n",
      "Epoch 41, CIFAR-10 Batch 3:  Loss: 0.6355267763137817, Accuracy: 0.800000011920929\n",
      "Epoch 41, CIFAR-10 Batch 4:  Loss: 0.6297010183334351, Accuracy: 0.9000000357627869\n",
      "Epoch 41, CIFAR-10 Batch 5:  Loss: 0.640573263168335, Accuracy: 0.8500000238418579\n",
      "Epoch 42, CIFAR-10 Batch 1:  Loss: 0.6889788508415222, Accuracy: 0.8500000834465027\n",
      "Epoch 42, CIFAR-10 Batch 2:  Loss: 0.6526065468788147, Accuracy: 0.8500000238418579\n",
      "Epoch 42, CIFAR-10 Batch 3:  Loss: 0.6343534588813782, Accuracy: 0.9000000357627869\n",
      "Epoch 42, CIFAR-10 Batch 4:  Loss: 0.642800509929657, Accuracy: 0.8500000238418579\n",
      "Epoch 42, CIFAR-10 Batch 5:  Loss: 0.6669406890869141, Accuracy: 0.8500000238418579\n",
      "Epoch 43, CIFAR-10 Batch 1:  Loss: 0.6989736557006836, Accuracy: 0.8500000238418579\n",
      "Epoch 43, CIFAR-10 Batch 2:  Loss: 0.6178278923034668, Accuracy: 0.8500000834465027\n",
      "Epoch 43, CIFAR-10 Batch 3:  Loss: 0.600235104560852, Accuracy: 0.9000000357627869\n",
      "Epoch 43, CIFAR-10 Batch 4:  Loss: 0.6338111162185669, Accuracy: 0.8500000238418579\n",
      "Epoch 43, CIFAR-10 Batch 5:  Loss: 0.6108826398849487, Accuracy: 0.8999999761581421\n",
      "Epoch 44, CIFAR-10 Batch 1:  Loss: 0.6550323963165283, Accuracy: 0.8750000596046448\n",
      "Epoch 44, CIFAR-10 Batch 2:  Loss: 0.6267735362052917, Accuracy: 0.9000000357627869\n",
      "Epoch 44, CIFAR-10 Batch 3:  Loss: 0.616643488407135, Accuracy: 0.8500000238418579\n",
      "Epoch 44, CIFAR-10 Batch 4:  Loss: 0.6319892406463623, Accuracy: 0.8500000238418579\n",
      "Epoch 44, CIFAR-10 Batch 5:  Loss: 0.6334990859031677, Accuracy: 0.8750000596046448\n",
      "Epoch 45, CIFAR-10 Batch 1:  Loss: 0.6592819094657898, Accuracy: 0.8250000476837158\n",
      "Epoch 45, CIFAR-10 Batch 2:  Loss: 0.6797096729278564, Accuracy: 0.8750000596046448\n",
      "Epoch 45, CIFAR-10 Batch 3:  Loss: 0.5879043340682983, Accuracy: 0.9000000357627869\n",
      "Epoch 45, CIFAR-10 Batch 4:  Loss: 0.6098560690879822, Accuracy: 0.9000000357627869\n",
      "Epoch 45, CIFAR-10 Batch 5:  Loss: 0.6217242479324341, Accuracy: 0.8750000596046448\n",
      "Epoch 46, CIFAR-10 Batch 1:  Loss: 0.6775910258293152, Accuracy: 0.9000000357627869\n",
      "Epoch 46, CIFAR-10 Batch 2:  Loss: 0.6055494546890259, Accuracy: 0.8750000596046448\n",
      "Epoch 46, CIFAR-10 Batch 3:  Loss: 0.6069119572639465, Accuracy: 0.8750000596046448\n",
      "Epoch 46, CIFAR-10 Batch 4:  Loss: 0.6299411058425903, Accuracy: 0.8500000238418579\n",
      "Epoch 46, CIFAR-10 Batch 5:  Loss: 0.654969334602356, Accuracy: 0.8250000476837158\n",
      "Epoch 47, CIFAR-10 Batch 1:  Loss: 0.6201677322387695, Accuracy: 0.8500000834465027\n",
      "Epoch 47, CIFAR-10 Batch 2:  Loss: 0.608988881111145, Accuracy: 0.8750000596046448\n",
      "Epoch 47, CIFAR-10 Batch 3:  Loss: 0.6279940009117126, Accuracy: 0.8500000238418579\n",
      "Epoch 47, CIFAR-10 Batch 4:  Loss: 0.6117861270904541, Accuracy: 0.8500000238418579\n",
      "Epoch 47, CIFAR-10 Batch 5:  Loss: 0.6652886867523193, Accuracy: 0.8750000596046448\n",
      "Epoch 48, CIFAR-10 Batch 1:  Loss: 0.6571040153503418, Accuracy: 0.8250000476837158\n",
      "Epoch 48, CIFAR-10 Batch 2:  Loss: 0.6116917133331299, Accuracy: 0.8750000596046448\n",
      "Epoch 48, CIFAR-10 Batch 3:  Loss: 0.6061638593673706, Accuracy: 0.8750000596046448\n",
      "Epoch 48, CIFAR-10 Batch 4:  Loss: 0.645588219165802, Accuracy: 0.8500000238418579\n",
      "Epoch 48, CIFAR-10 Batch 5:  Loss: 0.6449874639511108, Accuracy: 0.925000011920929\n",
      "Epoch 49, CIFAR-10 Batch 1:  Loss: 0.6783055067062378, Accuracy: 0.8750000596046448\n",
      "Epoch 49, CIFAR-10 Batch 2:  Loss: 0.6598216891288757, Accuracy: 0.8250000476837158\n",
      "Epoch 49, CIFAR-10 Batch 3:  Loss: 0.5894210338592529, Accuracy: 0.8750000596046448\n",
      "Epoch 49, CIFAR-10 Batch 4:  Loss: 0.5965280532836914, Accuracy: 0.925000011920929\n",
      "Epoch 49, CIFAR-10 Batch 5:  Loss: 0.6098001003265381, Accuracy: 0.8500000834465027\n",
      "Epoch 50, CIFAR-10 Batch 1:  Loss: 0.6514358520507812, Accuracy: 0.9000000357627869\n",
      "Epoch 50, CIFAR-10 Batch 2:  Loss: 0.6594471335411072, Accuracy: 0.8500000834465027\n",
      "Epoch 50, CIFAR-10 Batch 3:  Loss: 0.6031167507171631, Accuracy: 0.875\n",
      "Epoch 50, CIFAR-10 Batch 4:  Loss: 0.5949687361717224, Accuracy: 0.9000000357627869\n",
      "Epoch 50, CIFAR-10 Batch 5:  Loss: 0.6320505142211914, Accuracy: 0.9000000357627869\n",
      "Epoch 51, CIFAR-10 Batch 1:  Loss: 0.5957309603691101, Accuracy: 0.9000000357627869\n",
      "Epoch 51, CIFAR-10 Batch 2:  Loss: 0.6142433881759644, Accuracy: 0.8750000596046448\n",
      "Epoch 51, CIFAR-10 Batch 3:  Loss: 0.6099710464477539, Accuracy: 0.8500000834465027\n",
      "Epoch 51, CIFAR-10 Batch 4:  Loss: 0.5670037269592285, Accuracy: 0.9000000357627869\n",
      "Epoch 51, CIFAR-10 Batch 5:  Loss: 0.6279751658439636, Accuracy: 0.8250000476837158\n",
      "Epoch 52, CIFAR-10 Batch 1:  Loss: 0.6306132078170776, Accuracy: 0.8500000238418579\n",
      "Epoch 52, CIFAR-10 Batch 2:  Loss: 0.5962433815002441, Accuracy: 0.8500000834465027\n",
      "Epoch 52, CIFAR-10 Batch 3:  Loss: 0.5524474382400513, Accuracy: 0.925000011920929\n",
      "Epoch 52, CIFAR-10 Batch 4:  Loss: 0.5677155256271362, Accuracy: 0.925000011920929\n",
      "Epoch 52, CIFAR-10 Batch 5:  Loss: 0.6372807025909424, Accuracy: 0.8500000238418579\n",
      "Epoch 53, CIFAR-10 Batch 1:  Loss: 0.6377701759338379, Accuracy: 0.8750000596046448\n",
      "Epoch 53, CIFAR-10 Batch 2:  Loss: 0.5686349272727966, Accuracy: 0.8500000834465027\n",
      "Epoch 53, CIFAR-10 Batch 3:  Loss: 0.5851870179176331, Accuracy: 0.9000000357627869\n",
      "Epoch 53, CIFAR-10 Batch 4:  Loss: 0.5902838706970215, Accuracy: 0.8750000596046448\n",
      "Epoch 53, CIFAR-10 Batch 5:  Loss: 0.6034634113311768, Accuracy: 0.9000000357627869\n",
      "Epoch 54, CIFAR-10 Batch 1:  Loss: 0.6540716886520386, Accuracy: 0.8500000238418579\n",
      "Epoch 54, CIFAR-10 Batch 2:  Loss: 0.6361007690429688, Accuracy: 0.800000011920929\n",
      "Epoch 54, CIFAR-10 Batch 3:  Loss: 0.5615865588188171, Accuracy: 0.9000000357627869\n",
      "Epoch 54, CIFAR-10 Batch 4:  Loss: 0.5623108148574829, Accuracy: 0.9000000357627869\n",
      "Epoch 54, CIFAR-10 Batch 5:  Loss: 0.59013432264328, Accuracy: 0.9000000357627869\n",
      "Epoch 55, CIFAR-10 Batch 1:  Loss: 0.656609296798706, Accuracy: 0.8750000596046448\n",
      "Epoch 55, CIFAR-10 Batch 2:  Loss: 0.6102635264396667, Accuracy: 0.8000000715255737\n",
      "Epoch 55, CIFAR-10 Batch 3:  Loss: 0.5811598300933838, Accuracy: 0.875\n",
      "Epoch 55, CIFAR-10 Batch 4:  Loss: 0.5399738550186157, Accuracy: 0.925000011920929\n",
      "Epoch 55, CIFAR-10 Batch 5:  Loss: 0.5886351466178894, Accuracy: 0.8750000596046448\n",
      "Epoch 56, CIFAR-10 Batch 1:  Loss: 0.6148748397827148, Accuracy: 0.8750000596046448\n",
      "Epoch 56, CIFAR-10 Batch 2:  Loss: 0.6366848945617676, Accuracy: 0.800000011920929\n",
      "Epoch 56, CIFAR-10 Batch 3:  Loss: 0.5659227967262268, Accuracy: 0.9749999642372131\n",
      "Epoch 56, CIFAR-10 Batch 4:  Loss: 0.5781662464141846, Accuracy: 0.9000000357627869\n",
      "Epoch 56, CIFAR-10 Batch 5:  Loss: 0.6064698696136475, Accuracy: 0.8500000238418579\n",
      "Epoch 57, CIFAR-10 Batch 1:  Loss: 0.6626812219619751, Accuracy: 0.8250000476837158\n",
      "Epoch 57, CIFAR-10 Batch 2:  Loss: 0.5876564383506775, Accuracy: 0.8250000476837158\n",
      "Epoch 57, CIFAR-10 Batch 3:  Loss: 0.5942530632019043, Accuracy: 0.8999999761581421\n",
      "Epoch 57, CIFAR-10 Batch 4:  Loss: 0.6554709672927856, Accuracy: 0.8500000238418579\n",
      "Epoch 57, CIFAR-10 Batch 5:  Loss: 0.5994554758071899, Accuracy: 0.8500000834465027\n",
      "Epoch 58, CIFAR-10 Batch 1:  Loss: 0.6894457340240479, Accuracy: 0.8250000476837158\n",
      "Epoch 58, CIFAR-10 Batch 2:  Loss: 0.6321403980255127, Accuracy: 0.8500000238418579\n",
      "Epoch 58, CIFAR-10 Batch 3:  Loss: 0.5580160617828369, Accuracy: 0.925000011920929\n",
      "Epoch 58, CIFAR-10 Batch 4:  Loss: 0.5882082581520081, Accuracy: 0.8500000238418579\n",
      "Epoch 58, CIFAR-10 Batch 5:  Loss: 0.5979679822921753, Accuracy: 0.9000000357627869\n",
      "Epoch 59, CIFAR-10 Batch 1:  Loss: 0.6657625436782837, Accuracy: 0.8250000476837158\n",
      "Epoch 59, CIFAR-10 Batch 2:  Loss: 0.5781663656234741, Accuracy: 0.8500000238418579\n",
      "Epoch 59, CIFAR-10 Batch 3:  Loss: 0.5615059733390808, Accuracy: 0.9000000357627869\n",
      "Epoch 59, CIFAR-10 Batch 4:  Loss: 0.5837642550468445, Accuracy: 0.9000000357627869\n",
      "Epoch 59, CIFAR-10 Batch 5:  Loss: 0.5664340853691101, Accuracy: 0.925000011920929\n",
      "Epoch 60, CIFAR-10 Batch 1:  Loss: 0.6529886722564697, Accuracy: 0.8250000476837158\n",
      "Epoch 60, CIFAR-10 Batch 2:  Loss: 0.569114089012146, Accuracy: 0.8750000596046448\n",
      "Epoch 60, CIFAR-10 Batch 3:  Loss: 0.554557204246521, Accuracy: 0.949999988079071\n",
      "Epoch 60, CIFAR-10 Batch 4:  Loss: 0.5511391162872314, Accuracy: 0.8999999761581421\n",
      "Epoch 60, CIFAR-10 Batch 5:  Loss: 0.549781084060669, Accuracy: 0.9000000357627869\n",
      "Epoch 61, CIFAR-10 Batch 1:  Loss: 0.6809773445129395, Accuracy: 0.8500000238418579\n",
      "Epoch 61, CIFAR-10 Batch 2:  Loss: 0.6130620241165161, Accuracy: 0.8500000238418579\n",
      "Epoch 61, CIFAR-10 Batch 3:  Loss: 0.5476547479629517, Accuracy: 0.949999988079071\n",
      "Epoch 61, CIFAR-10 Batch 4:  Loss: 0.5622887015342712, Accuracy: 0.9000000357627869\n",
      "Epoch 61, CIFAR-10 Batch 5:  Loss: 0.5707529187202454, Accuracy: 0.8750000596046448\n",
      "Epoch 62, CIFAR-10 Batch 1:  Loss: 0.6567683815956116, Accuracy: 0.8750000596046448\n",
      "Epoch 62, CIFAR-10 Batch 2:  Loss: 0.5949004888534546, Accuracy: 0.8750000596046448\n",
      "Epoch 62, CIFAR-10 Batch 3:  Loss: 0.5511370897293091, Accuracy: 0.949999988079071\n",
      "Epoch 62, CIFAR-10 Batch 4:  Loss: 0.5802682042121887, Accuracy: 0.925000011920929\n",
      "Epoch 62, CIFAR-10 Batch 5:  Loss: 0.557915985584259, Accuracy: 0.9000000357627869\n",
      "Epoch 63, CIFAR-10 Batch 1:  Loss: 0.6421880722045898, Accuracy: 0.8750000596046448\n",
      "Epoch 63, CIFAR-10 Batch 2:  Loss: 0.6309670209884644, Accuracy: 0.8500000238418579\n",
      "Epoch 63, CIFAR-10 Batch 3:  Loss: 0.5296739339828491, Accuracy: 0.9749999642372131\n",
      "Epoch 63, CIFAR-10 Batch 4:  Loss: 0.5755215287208557, Accuracy: 0.8750000596046448\n",
      "Epoch 63, CIFAR-10 Batch 5:  Loss: 0.5824629068374634, Accuracy: 0.925000011920929\n",
      "Epoch 64, CIFAR-10 Batch 1:  Loss: 0.6047285199165344, Accuracy: 0.8250000476837158\n",
      "Epoch 64, CIFAR-10 Batch 2:  Loss: 0.5971453189849854, Accuracy: 0.8250000476837158\n",
      "Epoch 64, CIFAR-10 Batch 3:  Loss: 0.5271402597427368, Accuracy: 0.925000011920929\n",
      "Epoch 64, CIFAR-10 Batch 4:  Loss: 0.5498934984207153, Accuracy: 0.9000000357627869\n",
      "Epoch 64, CIFAR-10 Batch 5:  Loss: 0.5669605731964111, Accuracy: 0.875\n",
      "Epoch 65, CIFAR-10 Batch 1:  Loss: 0.638808012008667, Accuracy: 0.824999988079071\n",
      "Epoch 65, CIFAR-10 Batch 2:  Loss: 0.5829192399978638, Accuracy: 0.8500000238418579\n",
      "Epoch 65, CIFAR-10 Batch 3:  Loss: 0.521570086479187, Accuracy: 0.949999988079071\n",
      "Epoch 65, CIFAR-10 Batch 4:  Loss: 0.5889738202095032, Accuracy: 0.9000000357627869\n",
      "Epoch 65, CIFAR-10 Batch 5:  Loss: 0.5500362515449524, Accuracy: 0.925000011920929\n",
      "Epoch 66, CIFAR-10 Batch 1:  Loss: 0.6571983098983765, Accuracy: 0.8500000834465027\n",
      "Epoch 66, CIFAR-10 Batch 2:  Loss: 0.5700423717498779, Accuracy: 0.8750000596046448\n",
      "Epoch 66, CIFAR-10 Batch 3:  Loss: 0.5091710090637207, Accuracy: 0.949999988079071\n",
      "Epoch 66, CIFAR-10 Batch 4:  Loss: 0.5301241874694824, Accuracy: 0.949999988079071\n",
      "Epoch 66, CIFAR-10 Batch 5:  Loss: 0.5478711724281311, Accuracy: 0.925000011920929\n",
      "Epoch 67, CIFAR-10 Batch 1:  Loss: 0.6316633224487305, Accuracy: 0.8750000596046448\n",
      "Epoch 67, CIFAR-10 Batch 2:  Loss: 0.7115647792816162, Accuracy: 0.800000011920929\n",
      "Epoch 67, CIFAR-10 Batch 3:  Loss: 0.5545851588249207, Accuracy: 0.925000011920929\n",
      "Epoch 67, CIFAR-10 Batch 4:  Loss: 0.5368129014968872, Accuracy: 0.949999988079071\n",
      "Epoch 67, CIFAR-10 Batch 5:  Loss: 0.5470185875892639, Accuracy: 0.9249999523162842\n",
      "Epoch 68, CIFAR-10 Batch 1:  Loss: 0.661551833152771, Accuracy: 0.9000000357627869\n",
      "Epoch 68, CIFAR-10 Batch 2:  Loss: 0.5874871611595154, Accuracy: 0.8500000834465027\n",
      "Epoch 68, CIFAR-10 Batch 3:  Loss: 0.5231415629386902, Accuracy: 0.925000011920929\n",
      "Epoch 68, CIFAR-10 Batch 4:  Loss: 0.5323449969291687, Accuracy: 0.9000000357627869\n",
      "Epoch 68, CIFAR-10 Batch 5:  Loss: 0.5557838678359985, Accuracy: 0.9249999523162842\n",
      "Epoch 69, CIFAR-10 Batch 1:  Loss: 0.605785608291626, Accuracy: 0.9000000357627869\n",
      "Epoch 69, CIFAR-10 Batch 2:  Loss: 0.6030030250549316, Accuracy: 0.8250000476837158\n",
      "Epoch 69, CIFAR-10 Batch 3:  Loss: 0.5453361868858337, Accuracy: 0.925000011920929\n",
      "Epoch 69, CIFAR-10 Batch 4:  Loss: 0.5664530396461487, Accuracy: 0.925000011920929\n",
      "Epoch 69, CIFAR-10 Batch 5:  Loss: 0.5794267654418945, Accuracy: 0.875\n",
      "Epoch 70, CIFAR-10 Batch 1:  Loss: 0.6511102914810181, Accuracy: 0.8750000596046448\n",
      "Epoch 70, CIFAR-10 Batch 2:  Loss: 0.6071583032608032, Accuracy: 0.8500000834465027\n",
      "Epoch 70, CIFAR-10 Batch 3:  Loss: 0.547619104385376, Accuracy: 0.949999988079071\n",
      "Epoch 70, CIFAR-10 Batch 4:  Loss: 0.5375377535820007, Accuracy: 0.9000000357627869\n",
      "Epoch 70, CIFAR-10 Batch 5:  Loss: 0.5660593509674072, Accuracy: 0.875\n"
     ]
    }
   ],
   "source": [
    "\"\"\"\n",
    "DON'T MODIFY ANYTHING IN THIS CELL\n",
    "\"\"\"\n",
    "save_model_path = './image_classification'\n",
    "\n",
    "print('Training...')\n",
    "with tf.Session() as sess:\n",
    "    # Initializing the variables\n",
    "    sess.run(tf.global_variables_initializer())\n",
    "    \n",
    "    # Training cycle\n",
    "    for epoch in range(epochs):\n",
    "        # Loop over all batches\n",
    "        n_batches = 5\n",
    "        for batch_i in range(1, n_batches + 1):\n",
    "            for batch_features, batch_labels in helper.load_preprocess_training_batch(batch_i, batch_size):\n",
    "                train_neural_network(sess, optimizer, keep_probability, batch_features, batch_labels)\n",
    "            print('Epoch {:>2}, CIFAR-10 Batch {}:  '.format(epoch + 1, batch_i), end='')\n",
    "            print_stats(sess, batch_features, batch_labels, cost, accuracy)\n",
    "            \n",
    "    # Save Model\n",
    "    saver = tf.train.Saver()\n",
    "    save_path = saver.save(sess, save_model_path)"
   ]
  },
  {
   "cell_type": "markdown",
   "metadata": {
    "deletable": true,
    "editable": true
   },
   "source": [
    "# Checkpoint\n",
    "The model has been saved to disk.\n",
    "## Test Model\n",
    "Test your model against the test dataset.  This will be your final accuracy. You should have an accuracy greater than 50%. If you don't, keep tweaking the model architecture and parameters."
   ]
  },
  {
   "cell_type": "code",
   "execution_count": 29,
   "metadata": {
    "collapsed": false,
    "deletable": true,
    "editable": true
   },
   "outputs": [
    {
     "name": "stdout",
     "output_type": "stream",
     "text": [
      "Testing Accuracy: 0.70078125\n",
      "\n"
     ]
    },
    {
     "data": {
      "image/png": "[encoded data removed]",
      "text/plain": [
       "<matplotlib.figure.Figure at 0x7f76153bc438>"
      ]
     },
     "metadata": {
      "image/png": {
       "height": 319,
       "width": 355
      }
     },
     "output_type": "display_data"
    }
   ],
   "source": [
    "\"\"\"\n",
    "DON'T MODIFY ANYTHING IN THIS CELL\n",
    "\"\"\"\n",
    "%matplotlib inline\n",
    "%config InlineBackend.figure_format = 'retina'\n",
    "\n",
    "import tensorflow as tf\n",
    "import pickle\n",
    "import helper\n",
    "import random\n",
    "\n",
    "# Set batch size if not already set\n",
    "try:\n",
    "    if batch_size:\n",
    "        pass\n",
    "except NameError:\n",
    "    batch_size = 64\n",
    "\n",
    "save_model_path = './image_classification'\n",
    "n_samples = 4\n",
    "top_n_predictions = 3\n",
    "\n",
    "def test_model():\n",
    "    \"\"\"\n",
    "    Test the saved model against the test dataset\n",
    "    \"\"\"\n",
    "\n",
    "    test_features, test_labels = pickle.load(open('preprocess_training.p', mode='rb'))\n",
    "    loaded_graph = tf.Graph()\n",
    "\n",
    "    with tf.Session(graph=loaded_graph) as sess:\n",
    "        # Load model\n",
    "        loader = tf.train.import_meta_graph(save_model_path + '.meta')\n",
    "        loader.restore(sess, save_model_path)\n",
    "\n",
    "        # Get Tensors from loaded model\n",
    "        loaded_x = loaded_graph.get_tensor_by_name('x:0')\n",
    "        loaded_y = loaded_graph.get_tensor_by_name('y:0')\n",
    "        loaded_keep_prob = loaded_graph.get_tensor_by_name('keep_prob:0')\n",
    "        loaded_logits = loaded_graph.get_tensor_by_name('logits:0')\n",
    "        loaded_acc = loaded_graph.get_tensor_by_name('accuracy:0')\n",
    "        \n",
    "        # Get accuracy in batches for memory limitations\n",
    "        test_batch_acc_total = 0\n",
    "        test_batch_count = 0\n",
    "        \n",
    "        for train_feature_batch, train_label_batch in helper.batch_features_labels(test_features, test_labels, batch_size):\n",
    "            test_batch_acc_total += sess.run(\n",
    "                loaded_acc,\n",
    "                feed_dict={loaded_x: train_feature_batch, loaded_y: train_label_batch, loaded_keep_prob: 1.0})\n",
    "            test_batch_count += 1\n",
    "\n",
    "        print('Testing Accuracy: {}\\n'.format(test_batch_acc_total/test_batch_count))\n",
    "\n",
    "        # Print Random Samples\n",
    "        random_test_features, random_test_labels = tuple(zip(*random.sample(list(zip(test_features, test_labels)), n_samples)))\n",
    "        random_test_predictions = sess.run(\n",
    "            tf.nn.top_k(tf.nn.softmax(loaded_logits), top_n_predictions),\n",
    "            feed_dict={loaded_x: random_test_features, loaded_y: random_test_labels, loaded_keep_prob: 1.0})\n",
    "        helper.display_image_predictions(random_test_features, random_test_labels, random_test_predictions)\n",
    "\n",
    "\n",
    "test_model()"
   ]
  },
  {
   "cell_type": "markdown",
   "metadata": {
    "deletable": true,
    "editable": true
   },
   "source": [
    "## Why 50-70% Accuracy?\n",
    "You might be wondering why you can't get an accuracy any higher. First things first, 50% isn't bad for a simple CNN.  Pure guessing would get you 10% accuracy. However, you might notice people are getting scores [well above 70%](http://rodrigob.github.io/are_we_there_yet/build/classification_datasets_results.html#43494641522d3130).  That's because we haven't taught you all there is to know about neural networks. We still need to cover a few more techniques.\n",
    "## Submitting This Project\n",
    "When submitting this project, make sure to run all the cells before saving the notebook.  Save the notebook file as \"dlnd_image_classification.ipynb\" and save it as a HTML file under \"File\" -> \"Download as\".  Include the \"helper.py\" and \"problem_unittests.py\" files in your submission."
   ]
  },
  {
   "cell_type": "code",
   "execution_count": null,
   "metadata": {
    "collapsed": true
   },
   "outputs": [],
   "source": []
  }
 ],
 "metadata": {
  "kernelspec": {
   "display_name": "Python 3",
   "language": "python",
   "name": "python3"
  },
  "language_info": {
   "codemirror_mode": {
    "name": "ipython",
    "version": 3
   },
   "file_extension": ".py",
   "mimetype": "text/x-python",
   "name": "python",
   "nbconvert_exporter": "python",
   "pygments_lexer": "ipython3",
   "version": "3.5.3"
  }
 },
 "nbformat": 4,
 "nbformat_minor": 0
}
