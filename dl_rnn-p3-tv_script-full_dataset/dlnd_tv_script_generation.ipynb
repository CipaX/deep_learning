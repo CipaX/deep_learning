{
 "cells": [
  {
   "cell_type": "markdown",
   "metadata": {
    "deletable": true,
    "editable": true
   },
   "source": [
    "# TV Script Generation\n",
    "In this project, you'll generate your own [Simpsons](https://en.wikipedia.org/wiki/The_Simpsons) TV scripts using RNNs.  You'll be using part of the [Simpsons dataset](https://www.kaggle.com/wcukierski/the-simpsons-by-the-data) of scripts from 27 seasons.  The Neural Network you'll build will generate a new TV script for a scene at [Moe's Tavern](https://simpsonswiki.com/wiki/Moe's_Tavern).\n",
    "## Get the Data\n",
    "The data is already provided for you.  You'll be using a subset of the original dataset.  It consists of only the scenes in Moe's Tavern.  This doesn't include other versions of the tavern, like \"Moe's Cavern\", \"Flaming Moe's\", \"Uncle Moe's Family Feed-Bag\", etc.."
   ]
  },
  {
   "cell_type": "code",
   "execution_count": 1,
   "metadata": {
    "collapsed": false,
    "deletable": true,
    "editable": true
   },
   "outputs": [],
   "source": [
    "\"\"\"\n",
    "DON'T MODIFY ANYTHING IN THIS CELL\n",
    "\"\"\"\n",
    "import helper\n",
    "\n",
    "data_dir = './data/simpsons/all_dataset_lines.txt'\n",
    "text = helper.load_data(data_dir)"
   ]
  },
  {
   "cell_type": "markdown",
   "metadata": {
    "deletable": true,
    "editable": true
   },
   "source": [
    "## Explore the Data\n",
    "Play around with `view_sentence_range` to view different parts of the data."
   ]
  },
  {
   "cell_type": "code",
   "execution_count": 2,
   "metadata": {
    "collapsed": false,
    "deletable": true,
    "editable": true
   },
   "outputs": [
    {
     "name": "stdout",
     "output_type": "stream",
     "text": [
      "Dataset Stats\n",
      "Roughly the number of unique words: 53124\n",
      "Number of scenes: 22115\n",
      "Average number of sentences in each scene: 5.158761021930816\n",
      "Number of lines: 136201\n",
      "Average number of words in each line: 10.556185343719942\n",
      "\n",
      "The sentences 0 to 10:\n",
      "Miss_Hoover: no actually it was a little of both sometimes when a disease is in all the magazines and all the news shows its only natural that you think you have it\n",
      "Lisa_Simpson: wheres mr bergstrom\n",
      "Miss_Hoover: i dont know although id sure like to talk to him he didnt touch my lesson plan what did he teach you\n",
      "Lisa_Simpson: that life is worth living\n",
      "Edna_Krabappel-Flanders: the polls will be open from now until the end of recess now just in case any of you have decided to put any thought into this well have our final statements martin\n",
      "Martin_Prince: i dont think theres anything left to say\n",
      "Edna_Krabappel-Flanders: bart\n",
      "Bart_Simpson: victory party under the slide\n",
      "\n",
      "Lisa_Simpson: mr bergstrom mr bergstrom\n"
     ]
    }
   ],
   "source": [
    "view_sentence_range = (0, 10)\n",
    "\n",
    "\"\"\"\n",
    "DON'T MODIFY ANYTHING IN THIS CELL\n",
    "\"\"\"\n",
    "import numpy as np\n",
    "\n",
    "print('Dataset Stats')\n",
    "print('Roughly the number of unique words: {}'.format(len({word: None for word in text.split()})))\n",
    "scenes = text.split('\\n\\n')\n",
    "print('Number of scenes: {}'.format(len(scenes)))\n",
    "sentence_count_scene = [scene.count('\\n') for scene in scenes]\n",
    "print('Average number of sentences in each scene: {}'.format(np.average(sentence_count_scene)))\n",
    "\n",
    "sentences = [sentence for scene in scenes for sentence in scene.split('\\n')]\n",
    "print('Number of lines: {}'.format(len(sentences)))\n",
    "word_count_sentence = [len(sentence.split()) for sentence in sentences]\n",
    "print('Average number of words in each line: {}'.format(np.average(word_count_sentence)))\n",
    "\n",
    "print()\n",
    "print('The sentences {} to {}:'.format(*view_sentence_range))\n",
    "print('\\n'.join(text.split('\\n')[view_sentence_range[0]:view_sentence_range[1]]))"
   ]
  },
  {
   "cell_type": "markdown",
   "metadata": {
    "deletable": true,
    "editable": true
   },
   "source": [
    "## Implement Preprocessing Functions\n",
    "The first thing to do to any dataset is preprocessing.  Implement the following preprocessing functions below:\n",
    "- Lookup Table\n",
    "- Tokenize Punctuation\n",
    "\n",
    "### Lookup Table\n",
    "To create a word embedding, you first need to transform the words to ids.  In this function, create two dictionaries:\n",
    "- Dictionary to go from the words to an id, we'll call `vocab_to_int`\n",
    "- Dictionary to go from the id to word, we'll call `int_to_vocab`\n",
    "\n",
    "Return these dictionaries in the following tuple `(vocab_to_int, int_to_vocab)`"
   ]
  },
  {
   "cell_type": "code",
   "execution_count": 3,
   "metadata": {
    "collapsed": false,
    "deletable": true,
    "editable": true
   },
   "outputs": [
    {
     "name": "stdout",
     "output_type": "stream",
     "text": [
      "Tests Passed\n"
     ]
    }
   ],
   "source": [
    "import numpy as np\n",
    "import problem_unittests as tests\n",
    "from collections import Counter\n",
    "\n",
    "def create_lookup_tables(text):\n",
    "    \"\"\"\n",
    "    Create lookup tables for vocabulary\n",
    "    :param text: The text of tv scripts split into words\n",
    "    :return: A tuple of dicts (vocab_to_int, int_to_vocab)\n",
    "    \"\"\"\n",
    "    # TODO: Implement Function\n",
    "    \n",
    "    counts = Counter(text)\n",
    "    vocab = sorted([word for word, count in counts.most_common(10000)], reverse=True)\n",
    "    \n",
    "    vocab_to_int = {word: i for i, word in enumerate(vocab)}\n",
    "    int_to_vocab = {i: word for word, i in vocab_to_int.items()}\n",
    "    \n",
    "    return vocab_to_int, int_to_vocab\n",
    "\n",
    "\n",
    "\"\"\"\n",
    "DON'T MODIFY ANYTHING IN THIS CELL THAT IS BELOW THIS LINE\n",
    "\"\"\"\n",
    "tests.test_create_lookup_tables(create_lookup_tables)"
   ]
  },
  {
   "cell_type": "markdown",
   "metadata": {
    "deletable": true,
    "editable": true
   },
   "source": [
    "### Tokenize Punctuation\n",
    "We'll be splitting the script into a word array using spaces as delimiters.  However, punctuations like periods and exclamation marks make it hard for the neural network to distinguish between the word \"bye\" and \"bye!\".\n",
    "\n",
    "Implement the function `token_lookup` to return a dict that will be used to tokenize symbols like \"!\" into \"||Exclamation_Mark||\".  Create a dictionary for the following symbols where the symbol is the key and value is the token:\n",
    "- Period ( . )\n",
    "- Comma ( , )\n",
    "- Quotation Mark ( \" )\n",
    "- Semicolon ( ; )\n",
    "- Exclamation mark ( ! )\n",
    "- Question mark ( ? )\n",
    "- Left Parentheses ( ( )\n",
    "- Right Parentheses ( ) )\n",
    "- Dash ( -- )\n",
    "- Return ( \\n )\n",
    "\n",
    "This dictionary will be used to token the symbols and add the delimiter (space) around it.  This separates the symbols as it's own word, making it easier for the neural network to predict on the next word. Make sure you don't use a token that could be confused as a word. Instead of using the token \"dash\", try using something like \"||dash||\"."
   ]
  },
  {
   "cell_type": "code",
   "execution_count": 4,
   "metadata": {
    "collapsed": false,
    "deletable": true,
    "editable": true,
    "scrolled": true
   },
   "outputs": [
    {
     "name": "stdout",
     "output_type": "stream",
     "text": [
      "Tests Passed\n"
     ]
    }
   ],
   "source": [
    "def token_lookup():\n",
    "    \"\"\"\n",
    "    Generate a dict to turn punctuation into a token.\n",
    "    :return: Tokenize dictionary where the key is the punctuation and the value is the token\n",
    "    \"\"\"\n",
    "    # TODO: Implement Function\n",
    "        \n",
    "    return {\n",
    "        '.': \"||Period||\",\n",
    "        ',': \"||Comma||\",\n",
    "        '\"': \"||Quotation_Mark||\",\n",
    "        ';': \"||Semicolon||\",\n",
    "        '!': \"||Exclamation_Mark||\",\n",
    "        '?': \"||Question_Mark||\",\n",
    "        '(': \"||Left_Parentheses||\",\n",
    "        ')': \"||Right_Parentheses||\",\n",
    "        '--': \"||Dash||\",\n",
    "        '\\n': \"||Return||\",\n",
    "    }\n",
    "\n",
    "\"\"\"\n",
    "DON'T MODIFY ANYTHING IN THIS CELL THAT IS BELOW THIS LINE\n",
    "\"\"\"\n",
    "tests.test_tokenize(token_lookup)"
   ]
  },
  {
   "cell_type": "markdown",
   "metadata": {
    "deletable": true,
    "editable": true
   },
   "source": [
    "## Preprocess all the data and save it\n",
    "Running the code cell below will preprocess all the data and save it to file."
   ]
  },
  {
   "cell_type": "code",
   "execution_count": 5,
   "metadata": {
    "collapsed": false,
    "deletable": true,
    "editable": true
   },
   "outputs": [
    {
     "name": "stdout",
     "output_type": "stream",
     "text": [
      "XXX CS: LEN_VOCAB:  10000\n"
     ]
    }
   ],
   "source": [
    "\"\"\"\n",
    "DON'T MODIFY ANYTHING IN THIS CELL\n",
    "\"\"\"\n",
    "# Preprocess Training, Validation, and Testing Data\n",
    "helper.preprocess_and_save_data(data_dir, token_lookup, create_lookup_tables)"
   ]
  },
  {
   "cell_type": "markdown",
   "metadata": {
    "deletable": true,
    "editable": true
   },
   "source": [
    "# Check Point\n",
    "This is your first checkpoint. If you ever decide to come back to this notebook or have to restart the notebook, you can start from here. The preprocessed data has been saved to disk."
   ]
  },
  {
   "cell_type": "code",
   "execution_count": 6,
   "metadata": {
    "collapsed": false,
    "deletable": true,
    "editable": true
   },
   "outputs": [],
   "source": [
    "\"\"\"\n",
    "DON'T MODIFY ANYTHING IN THIS CELL\n",
    "\"\"\"\n",
    "import helper\n",
    "import numpy as np\n",
    "import problem_unittests as tests\n",
    "\n",
    "int_text, vocab_to_int, int_to_vocab, token_dict = helper.load_preprocess()"
   ]
  },
  {
   "cell_type": "markdown",
   "metadata": {
    "deletable": true,
    "editable": true
   },
   "source": [
    "## Build the Neural Network\n",
    "You'll build the components necessary to build a RNN by implementing the following functions below:\n",
    "- get_inputs\n",
    "- get_init_cell\n",
    "- get_embed\n",
    "- build_rnn\n",
    "- build_nn\n",
    "- get_batches\n",
    "\n",
    "### Check the Version of TensorFlow and Access to GPU"
   ]
  },
  {
   "cell_type": "code",
   "execution_count": 7,
   "metadata": {
    "collapsed": false,
    "deletable": true,
    "editable": true
   },
   "outputs": [
    {
     "name": "stdout",
     "output_type": "stream",
     "text": [
      "TensorFlow Version: 1.0.0\n",
      "Default GPU Device: /gpu:0\n"
     ]
    }
   ],
   "source": [
    "\"\"\"\n",
    "DON'T MODIFY ANYTHING IN THIS CELL\n",
    "\"\"\"\n",
    "from distutils.version import LooseVersion\n",
    "import warnings\n",
    "import tensorflow as tf\n",
    "\n",
    "# Check TensorFlow Version\n",
    "assert LooseVersion(tf.__version__) >= LooseVersion('1.0'), 'Please use TensorFlow version 1.0 or newer'\n",
    "print('TensorFlow Version: {}'.format(tf.__version__))\n",
    "\n",
    "# Check for a GPU\n",
    "if not tf.test.gpu_device_name():\n",
    "    warnings.warn('No GPU found. Please use a GPU to train your neural network.')\n",
    "else:\n",
    "    print('Default GPU Device: {}'.format(tf.test.gpu_device_name()))"
   ]
  },
  {
   "cell_type": "markdown",
   "metadata": {
    "deletable": true,
    "editable": true
   },
   "source": [
    "### Input\n",
    "Implement the `get_inputs()` function to create TF Placeholders for the Neural Network.  It should create the following placeholders:\n",
    "- Input text placeholder named \"input\" using the [TF Placeholder](https://www.tensorflow.org/api_docs/python/tf/placeholder) `name` parameter.\n",
    "- Targets placeholder\n",
    "- Learning Rate placeholder\n",
    "\n",
    "Return the placeholders in the following the tuple `(Input, Targets, LearingRate)`"
   ]
  },
  {
   "cell_type": "code",
   "execution_count": 8,
   "metadata": {
    "collapsed": false,
    "deletable": true,
    "editable": true
   },
   "outputs": [
    {
     "name": "stdout",
     "output_type": "stream",
     "text": [
      "Tests Passed\n"
     ]
    }
   ],
   "source": [
    "def get_inputs():\n",
    "    \"\"\"\n",
    "    Create TF Placeholders for input, targets, and learning rate.\n",
    "    :return: Tuple (input, targets, learning rate)\n",
    "    \"\"\"\n",
    "    # TODO: Implement Function\n",
    "    \n",
    "    inputs = tf.placeholder(tf.int32, [None, None], name='input')\n",
    "    targets = tf.placeholder(tf.int32, [None, None], name='targets')\n",
    "    learning_rate = tf.placeholder(tf.float32, name='learning_rate')\n",
    "    \n",
    "    return inputs, targets, learning_rate\n",
    "\n",
    "\n",
    "\"\"\"\n",
    "DON'T MODIFY ANYTHING IN THIS CELL THAT IS BELOW THIS LINE\n",
    "\"\"\"\n",
    "tests.test_get_inputs(get_inputs)"
   ]
  },
  {
   "cell_type": "markdown",
   "metadata": {
    "deletable": true,
    "editable": true
   },
   "source": [
    "### Build RNN Cell and Initialize\n",
    "Stack one or more [`BasicLSTMCells`](https://www.tensorflow.org/api_docs/python/tf/contrib/rnn/BasicLSTMCell) in a [`MultiRNNCell`](https://www.tensorflow.org/api_docs/python/tf/contrib/rnn/MultiRNNCell).\n",
    "- The Rnn size should be set using `rnn_size`\n",
    "- Initalize Cell State using the MultiRNNCell's [`zero_state()`](https://www.tensorflow.org/api_docs/python/tf/contrib/rnn/MultiRNNCell#zero_state) function\n",
    "    - Apply the name \"initial_state\" to the initial state using [`tf.identity()`](https://www.tensorflow.org/api_docs/python/tf/identity)\n",
    "\n",
    "Return the cell and initial state in the following tuple `(Cell, InitialState)`"
   ]
  },
  {
   "cell_type": "code",
   "execution_count": 9,
   "metadata": {
    "collapsed": false,
    "deletable": true,
    "editable": true
   },
   "outputs": [
    {
     "name": "stdout",
     "output_type": "stream",
     "text": [
      "Tests Passed\n"
     ]
    }
   ],
   "source": [
    "def get_init_cell(batch_size, rnn_size, rnn_layers = 1):\n",
    "    \"\"\"\n",
    "    Create an RNN Cell and initialize it.\n",
    "    :param batch_size: Size of batches\n",
    "    :param rnn_size: Size of RNNs\n",
    "    :return: Tuple (cell, initialize state)\n",
    "    \"\"\"\n",
    "    # TODO: Implement Function\n",
    "    \n",
    "    # LSTM\n",
    "    #\n",
    "    cell = tf.contrib.rnn.BasicLSTMCell(rnn_size)\n",
    "    \n",
    "    # Dropout\n",
    "    #\n",
    "#     if keep_tensor:\n",
    "#         cell = tf.contrib.rnn.DropoutWrapper(cell, output_keep_prob=keep_tensor)\n",
    "    \n",
    "    # Multi-RNN\n",
    "    #\n",
    "    cell = tf.contrib.rnn.MultiRNNCell([cell] * rnn_layers)\n",
    "    \n",
    "    # Initial state\n",
    "    #\n",
    "    initial_state = cell.zero_state(batch_size, tf.float32)\n",
    "    initial_state = tf.identity(initial_state, name='initial_state')\n",
    "    \n",
    "    return cell, initial_state\n",
    "\n",
    "\n",
    "\"\"\"\n",
    "DON'T MODIFY ANYTHING IN THIS CELL THAT IS BELOW THIS LINE\n",
    "\"\"\"\n",
    "tests.test_get_init_cell(get_init_cell)"
   ]
  },
  {
   "cell_type": "markdown",
   "metadata": {
    "deletable": true,
    "editable": true
   },
   "source": [
    "### Word Embedding\n",
    "Apply embedding to `input_data` using TensorFlow.  Return the embedded sequence."
   ]
  },
  {
   "cell_type": "code",
   "execution_count": 10,
   "metadata": {
    "collapsed": false,
    "deletable": true,
    "editable": true
   },
   "outputs": [
    {
     "name": "stdout",
     "output_type": "stream",
     "text": [
      "Tests Passed\n"
     ]
    }
   ],
   "source": [
    "def get_embed(input_data, vocab_size, embed_dim):\n",
    "    \"\"\"\n",
    "    Create embedding for <input_data>.\n",
    "    :param input_data: TF placeholder for text input.\n",
    "    :param vocab_size: Number of words in vocabulary.\n",
    "    :param embed_dim: Number of embedding dimensions\n",
    "    :return: Embedded input.\n",
    "    \"\"\"\n",
    "    # TODO: Implement Function\n",
    "    \n",
    "    embedding_table = tf.Variable(tf.random_uniform((vocab_size, embed_dim), -1, 1))\n",
    "    embed = tf.nn.embedding_lookup(embedding_table, input_data)\n",
    "    \n",
    "    return embed\n",
    "\n",
    "\n",
    "\"\"\"\n",
    "DON'T MODIFY ANYTHING IN THIS CELL THAT IS BELOW THIS LINE\n",
    "\"\"\"\n",
    "tests.test_get_embed(get_embed)"
   ]
  },
  {
   "cell_type": "markdown",
   "metadata": {
    "deletable": true,
    "editable": true
   },
   "source": [
    "### Build RNN\n",
    "You created a RNN Cell in the `get_init_cell()` function.  Time to use the cell to create a RNN.\n",
    "- Build the RNN using the [`tf.nn.dynamic_rnn()`](https://www.tensorflow.org/api_docs/python/tf/nn/dynamic_rnn)\n",
    " - Apply the name \"final_state\" to the final state using [`tf.identity()`](https://www.tensorflow.org/api_docs/python/tf/identity)\n",
    "\n",
    "Return the outputs and final_state state in the following tuple `(Outputs, FinalState)` "
   ]
  },
  {
   "cell_type": "code",
   "execution_count": 11,
   "metadata": {
    "collapsed": false,
    "deletable": true,
    "editable": true
   },
   "outputs": [
    {
     "name": "stdout",
     "output_type": "stream",
     "text": [
      "Tests Passed\n"
     ]
    }
   ],
   "source": [
    "def build_rnn(cell, inputs):\n",
    "    \"\"\"\n",
    "    Create a RNN using a RNN Cell\n",
    "    :param cell: RNN Cell\n",
    "    :param inputs: Input text data\n",
    "    :return: Tuple (Outputs, Final State)\n",
    "    \"\"\"\n",
    "    # TODO: Implement Function\n",
    "    \n",
    "    outputs, final_state = tf.nn.dynamic_rnn(cell, inputs, dtype=tf.float32)\n",
    "    final_state = tf.identity(final_state, name='final_state')\n",
    "    \n",
    "    return outputs, final_state\n",
    "\n",
    "\n",
    "\"\"\"\n",
    "DON'T MODIFY ANYTHING IN THIS CELL THAT IS BELOW THIS LINE\n",
    "\"\"\"\n",
    "tests.test_build_rnn(build_rnn)"
   ]
  },
  {
   "cell_type": "markdown",
   "metadata": {
    "deletable": true,
    "editable": true
   },
   "source": [
    "### Build the Neural Network\n",
    "Apply the functions you implemented above to:\n",
    "- Apply embedding to `input_data` using your `get_embed(input_data, vocab_size, embed_dim)` function.\n",
    "- Build RNN using `cell` and your `build_rnn(cell, inputs)` function.\n",
    "- Apply a fully connected layer with a linear activation and `vocab_size` as the number of outputs.\n",
    "\n",
    "Return the logits and final state in the following tuple (Logits, FinalState) "
   ]
  },
  {
   "cell_type": "code",
   "execution_count": 12,
   "metadata": {
    "collapsed": false,
    "deletable": true,
    "editable": true
   },
   "outputs": [
    {
     "name": "stdout",
     "output_type": "stream",
     "text": [
      "Tests Passed\n"
     ]
    }
   ],
   "source": [
    "def build_nn(cell, rnn_size, input_data, vocab_size, embed_dim):\n",
    "    \"\"\"\n",
    "    Build part of the neural network\n",
    "    :param cell: RNN cell\n",
    "    :param rnn_size: Size of rnns\n",
    "    :param input_data: Input data\n",
    "    :param vocab_size: Vocabulary size\n",
    "    :param embed_dim: Number of embedding dimensions\n",
    "    :return: Tuple (Logits, FinalState)\n",
    "    \"\"\"\n",
    "    # TODO: Implement Function\n",
    "    \n",
    "    embed = get_embed(input_data, vocab_size, embed_dim)\n",
    "    rnn_outputs, final_state = build_rnn(cell, embed)\n",
    "    logits = tf.contrib.layers.fully_connected(rnn_outputs, vocab_size, activation_fn=None)\n",
    "    \n",
    "    return logits, final_state\n",
    "\n",
    "\n",
    "\"\"\"\n",
    "DON'T MODIFY ANYTHING IN THIS CELL THAT IS BELOW THIS LINE\n",
    "\"\"\"\n",
    "tests.test_build_nn(build_nn)"
   ]
  },
  {
   "cell_type": "markdown",
   "metadata": {
    "deletable": true,
    "editable": true
   },
   "source": [
    "### Batches\n",
    "Implement `get_batches` to create batches of input and targets using `int_text`.  The batches should be a Numpy array with the shape `(number of batches, 2, batch size, sequence length)`. Each batch contains two elements:\n",
    "- The first element is a single batch of **input** with the shape `[batch size, sequence length]`\n",
    "- The second element is a single batch of **targets** with the shape `[batch size, sequence length]`\n",
    "\n",
    "If you can't fill the last batch with enough data, drop the last batch.\n",
    "\n",
    "For exmple, `get_batches([1, 2, 3, 4, 5, 6, 7, 8, 9, 10, 11, 12, 13, 14, 15], 2, 3)` would return a Numpy array of the following:\n",
    "```\n",
    "[\n",
    "  # First Batch\n",
    "  [\n",
    "    # Batch of Input\n",
    "    [[ 1  2  3], [ 7  8  9]],\n",
    "    # Batch of targets\n",
    "    [[ 2  3  4], [ 8  9 10]]\n",
    "  ],\n",
    " \n",
    "  # Second Batch\n",
    "  [\n",
    "    # Batch of Input\n",
    "    [[ 4  5  6], [10 11 12]],\n",
    "    # Batch of targets\n",
    "    [[ 5  6  7], [11 12 13]]\n",
    "  ]\n",
    "]\n",
    "```"
   ]
  },
  {
   "cell_type": "code",
   "execution_count": 13,
   "metadata": {
    "collapsed": false,
    "deletable": true,
    "editable": true
   },
   "outputs": [
    {
     "name": "stdout",
     "output_type": "stream",
     "text": [
      "Tests Passed\n"
     ]
    }
   ],
   "source": [
    "def get_batches(int_text, batch_size, seq_length):\n",
    "    \"\"\"\n",
    "    Return batches of input and target\n",
    "    :param int_text: Text with the words replaced by their ids\n",
    "    :param batch_size: The size of batch\n",
    "    :param seq_length: The length of sequence\n",
    "    :return: Batches as a Numpy array\n",
    "    \"\"\"\n",
    "    # TODO: Implement Function\n",
    "    \n",
    "    n_batches = (len(int_text)-1) // (batch_size*seq_length)\n",
    "    batch_size_in_words = batch_size * seq_length\n",
    "\n",
    "    int_text = int_text[:n_batches*batch_size_in_words+1]\n",
    "    \n",
    "    result = []\n",
    "    \n",
    "    for bi in range(0, n_batches):\n",
    "        input_batch = [ int_text[bi*seq_length + bii*n_batches*seq_length :\n",
    "                                 bi*seq_length + bii*n_batches*seq_length + seq_length]\n",
    "                        for bii in range(0, batch_size) ]\n",
    "        target_batch = [ int_text[bi*seq_length + bii*n_batches*seq_length + 1 :\n",
    "                                  bi*seq_length + bii*n_batches*seq_length + 1 + seq_length]\n",
    "                         for bii in range(0, batch_size) ]\n",
    "        \n",
    "        result.append([input_batch, target_batch])\n",
    "    \n",
    "    result = np.array(result)\n",
    "\n",
    "    return result\n",
    "\n",
    "\"\"\"\n",
    "DON'T MODIFY ANYTHING IN THIS CELL THAT IS BELOW THIS LINE\n",
    "\"\"\"\n",
    "tests.test_get_batches(get_batches)"
   ]
  },
  {
   "cell_type": "markdown",
   "metadata": {
    "deletable": true,
    "editable": true
   },
   "source": [
    "## Neural Network Training\n",
    "### Hyperparameters\n",
    "Tune the following parameters:\n",
    "\n",
    "- Set `num_epochs` to the number of epochs.\n",
    "- Set `batch_size` to the batch size.\n",
    "- Set `rnn_size` to the size of the RNNs.\n",
    "- Set `embed_dim` to the size of the embedding.\n",
    "- Set `seq_length` to the length of sequence.\n",
    "- Set `learning_rate` to the learning rate.\n",
    "- Set `show_every_n_batches` to the number of batches the neural network should print progress."
   ]
  },
  {
   "cell_type": "code",
   "execution_count": 48,
   "metadata": {
    "collapsed": true,
    "deletable": true,
    "editable": true
   },
   "outputs": [],
   "source": [
    "# Number of Epochs\n",
    "num_epochs = 40\n",
    "\n",
    "# Batch Size\n",
    "batch_size = 512\n",
    "\n",
    "# RNN Size\n",
    "rnn_size = 1024\n",
    "\n",
    "# RNN Layers\n",
    "rnn_layers = 1\n",
    "\n",
    "# Embedding Dimension Size\n",
    "embed_dim = 300\n",
    "\n",
    "# Sequence Length\n",
    "seq_length = 20\n",
    "\n",
    "# Learning Rate\n",
    "learning_rate = 0.025\n",
    "\n",
    "# Show stats for every n number of batches\n",
    "show_every_n_batches = 20\n",
    "\n",
    "\"\"\"\n",
    "DON'T MODIFY ANYTHING IN THIS CELL THAT IS BELOW THIS LINE\n",
    "\"\"\"\n",
    "save_dir = './save'"
   ]
  },
  {
   "cell_type": "markdown",
   "metadata": {
    "deletable": true,
    "editable": true
   },
   "source": [
    "### Build the Graph\n",
    "Build the graph using the neural network you implemented."
   ]
  },
  {
   "cell_type": "code",
   "execution_count": 49,
   "metadata": {
    "collapsed": false,
    "deletable": true,
    "editable": true
   },
   "outputs": [],
   "source": [
    "\"\"\"\n",
    "DON'T MODIFY ANYTHING IN THIS CELL\n",
    "\"\"\"\n",
    "from tensorflow.contrib import seq2seq\n",
    "\n",
    "train_graph = tf.Graph()\n",
    "with train_graph.as_default():\n",
    "    vocab_size = len(int_to_vocab)\n",
    "    input_text, targets, lr = get_inputs()\n",
    "    input_data_shape = tf.shape(input_text)\n",
    "    \n",
    "    cell, initial_state = get_init_cell(input_data_shape[0], rnn_size, rnn_layers)\n",
    "    logits, final_state = build_nn(cell, rnn_size, input_text, vocab_size, embed_dim)\n",
    "\n",
    "    # Probabilities for generating words\n",
    "    probs = tf.nn.softmax(logits, name='probs')\n",
    "\n",
    "    # Loss function\n",
    "    cost = seq2seq.sequence_loss(\n",
    "        logits,\n",
    "        targets,\n",
    "        tf.ones([input_data_shape[0], input_data_shape[1]]))\n",
    "\n",
    "    # Optimizer\n",
    "    optimizer = tf.train.AdamOptimizer(lr)\n",
    "\n",
    "    # Gradient Clipping\n",
    "    gradients = optimizer.compute_gradients(cost)\n",
    "    capped_gradients = [(tf.clip_by_value(grad, -1., 1.), var) for grad, var in gradients]\n",
    "    train_op = optimizer.apply_gradients(capped_gradients)"
   ]
  },
  {
   "cell_type": "markdown",
   "metadata": {
    "deletable": true,
    "editable": true
   },
   "source": [
    "## Train\n",
    "Train the neural network on the preprocessed data.  If you have a hard time getting a good loss, check the [forms](https://discussions.udacity.com/) to see if anyone is having the same problem."
   ]
  },
  {
   "cell_type": "code",
   "execution_count": 50,
   "metadata": {
    "collapsed": false,
    "deletable": true,
    "editable": true,
    "scrolled": false
   },
   "outputs": [
    {
     "name": "stdout",
     "output_type": "stream",
     "text": [
      "Epoch   0 Batch    0/149   train_loss = 9.210\n",
      "Epoch   0 Batch   20/149   train_loss = 5.817\n",
      "Epoch   0 Batch   40/149   train_loss = 5.494\n",
      "Epoch   0 Batch   60/149   train_loss = 5.278\n",
      "Epoch   0 Batch   80/149   train_loss = 5.099\n",
      "Epoch   0 Batch  100/149   train_loss = 5.148\n",
      "Epoch   0 Batch  120/149   train_loss = 5.051\n",
      "Epoch   0 Batch  140/149   train_loss = 4.998\n",
      "Epoch   1 Batch   11/149   train_loss = 5.040\n",
      "Epoch   1 Batch   31/149   train_loss = 4.893\n",
      "Epoch   1 Batch   51/149   train_loss = 4.862\n",
      "Epoch   1 Batch   71/149   train_loss = 4.803\n",
      "Epoch   1 Batch   91/149   train_loss = 4.792\n",
      "Epoch   1 Batch  111/149   train_loss = 4.782\n",
      "Epoch   1 Batch  131/149   train_loss = 4.761\n",
      "Epoch   2 Batch    2/149   train_loss = 4.758\n",
      "Epoch   2 Batch   22/149   train_loss = 4.741\n",
      "Epoch   2 Batch   42/149   train_loss = 4.691\n",
      "Epoch   2 Batch   62/149   train_loss = 4.629\n",
      "Epoch   2 Batch   82/149   train_loss = 4.577\n",
      "Epoch   2 Batch  102/149   train_loss = 4.660\n",
      "Epoch   2 Batch  122/149   train_loss = 4.596\n",
      "Epoch   2 Batch  142/149   train_loss = 4.585\n",
      "Epoch   3 Batch   13/149   train_loss = 4.597\n",
      "Epoch   3 Batch   33/149   train_loss = 4.592\n",
      "Epoch   3 Batch   53/149   train_loss = 4.556\n",
      "Epoch   3 Batch   73/149   train_loss = 4.520\n",
      "Epoch   3 Batch   93/149   train_loss = 4.554\n",
      "Epoch   3 Batch  113/149   train_loss = 4.492\n",
      "Epoch   3 Batch  133/149   train_loss = 4.533\n",
      "Epoch   4 Batch    4/149   train_loss = 4.541\n",
      "Epoch   4 Batch   24/149   train_loss = 4.501\n",
      "Epoch   4 Batch   44/149   train_loss = 4.450\n",
      "Epoch   4 Batch   64/149   train_loss = 4.443\n",
      "Epoch   4 Batch   84/149   train_loss = 4.438\n",
      "Epoch   4 Batch  104/149   train_loss = 4.425\n",
      "Epoch   4 Batch  124/149   train_loss = 4.422\n",
      "Epoch   4 Batch  144/149   train_loss = 4.433\n",
      "Epoch   5 Batch   15/149   train_loss = 4.421\n",
      "Epoch   5 Batch   35/149   train_loss = 4.448\n",
      "Epoch   5 Batch   55/149   train_loss = 4.398\n",
      "Epoch   5 Batch   75/149   train_loss = 4.443\n",
      "Epoch   5 Batch   95/149   train_loss = 4.370\n",
      "Epoch   5 Batch  115/149   train_loss = 4.345\n",
      "Epoch   5 Batch  135/149   train_loss = 4.374\n",
      "Epoch   6 Batch    6/149   train_loss = 4.347\n",
      "Epoch   6 Batch   26/149   train_loss = 4.353\n",
      "Epoch   6 Batch   46/149   train_loss = 4.341\n",
      "Epoch   6 Batch   66/149   train_loss = 4.341\n",
      "Epoch   6 Batch   86/149   train_loss = 4.288\n",
      "Epoch   6 Batch  106/149   train_loss = 4.297\n",
      "Epoch   6 Batch  126/149   train_loss = 4.345\n",
      "Epoch   6 Batch  146/149   train_loss = 4.306\n",
      "Epoch   7 Batch   17/149   train_loss = 4.292\n",
      "Epoch   7 Batch   37/149   train_loss = 4.294\n",
      "Epoch   7 Batch   57/149   train_loss = 4.299\n",
      "Epoch   7 Batch   77/149   train_loss = 4.303\n",
      "Epoch   7 Batch   97/149   train_loss = 4.277\n",
      "Epoch   7 Batch  117/149   train_loss = 4.243\n",
      "Epoch   7 Batch  137/149   train_loss = 4.264\n",
      "Epoch   8 Batch    8/149   train_loss = 4.180\n",
      "Epoch   8 Batch   28/149   train_loss = 4.243\n",
      "Epoch   8 Batch   48/149   train_loss = 4.226\n",
      "Epoch   8 Batch   68/149   train_loss = 4.211\n",
      "Epoch   8 Batch   88/149   train_loss = 4.214\n",
      "Epoch   8 Batch  108/149   train_loss = 4.205\n",
      "Epoch   8 Batch  128/149   train_loss = 4.209\n",
      "Epoch   8 Batch  148/149   train_loss = 4.174\n",
      "Epoch   9 Batch   19/149   train_loss = 4.190\n",
      "Epoch   9 Batch   39/149   train_loss = 4.161\n",
      "Epoch   9 Batch   59/149   train_loss = 4.227\n",
      "Epoch   9 Batch   79/149   train_loss = 4.157\n",
      "Epoch   9 Batch   99/149   train_loss = 4.146\n",
      "Epoch   9 Batch  119/149   train_loss = 4.101\n",
      "Epoch   9 Batch  139/149   train_loss = 4.121\n",
      "Epoch  10 Batch   10/149   train_loss = 4.126\n",
      "Epoch  10 Batch   30/149   train_loss = 4.148\n",
      "Epoch  10 Batch   50/149   train_loss = 4.109\n",
      "Epoch  10 Batch   70/149   train_loss = 4.129\n",
      "Epoch  10 Batch   90/149   train_loss = 4.126\n",
      "Epoch  10 Batch  110/149   train_loss = 4.040\n",
      "Epoch  10 Batch  130/149   train_loss = 4.073\n",
      "Epoch  11 Batch    1/149   train_loss = 4.110\n",
      "Epoch  11 Batch   21/149   train_loss = 4.081\n",
      "Epoch  11 Batch   41/149   train_loss = 4.092\n",
      "Epoch  11 Batch   61/149   train_loss = 4.121\n",
      "Epoch  11 Batch   81/149   train_loss = 4.043\n",
      "Epoch  11 Batch  101/149   train_loss = 4.078\n",
      "Epoch  11 Batch  121/149   train_loss = 4.060\n",
      "Epoch  11 Batch  141/149   train_loss = 4.019\n",
      "Epoch  12 Batch   12/149   train_loss = 4.027\n",
      "Epoch  12 Batch   32/149   train_loss = 4.064\n",
      "Epoch  12 Batch   52/149   train_loss = 4.036\n",
      "Epoch  12 Batch   72/149   train_loss = 4.049\n",
      "Epoch  12 Batch   92/149   train_loss = 3.989\n",
      "Epoch  12 Batch  112/149   train_loss = 4.041\n",
      "Epoch  12 Batch  132/149   train_loss = 4.002\n",
      "Epoch  13 Batch    3/149   train_loss = 4.029\n",
      "Epoch  13 Batch   23/149   train_loss = 3.959\n",
      "Epoch  13 Batch   43/149   train_loss = 4.004\n",
      "Epoch  13 Batch   63/149   train_loss = 4.013\n",
      "Epoch  13 Batch   83/149   train_loss = 3.962\n",
      "Epoch  13 Batch  103/149   train_loss = 3.974\n",
      "Epoch  13 Batch  123/149   train_loss = 4.000\n",
      "Epoch  13 Batch  143/149   train_loss = 3.979\n",
      "Epoch  14 Batch   14/149   train_loss = 3.976\n",
      "Epoch  14 Batch   34/149   train_loss = 3.929\n",
      "Epoch  14 Batch   54/149   train_loss = 3.954\n",
      "Epoch  14 Batch   74/149   train_loss = 3.966\n",
      "Epoch  14 Batch   94/149   train_loss = 3.955\n",
      "Epoch  14 Batch  114/149   train_loss = 3.935\n",
      "Epoch  14 Batch  134/149   train_loss = 3.962\n",
      "Epoch  15 Batch    5/149   train_loss = 3.948\n",
      "Epoch  15 Batch   25/149   train_loss = 3.934\n",
      "Epoch  15 Batch   45/149   train_loss = 3.949\n",
      "Epoch  15 Batch   65/149   train_loss = 3.897\n",
      "Epoch  15 Batch   85/149   train_loss = 3.888\n",
      "Epoch  15 Batch  105/149   train_loss = 3.903\n",
      "Epoch  15 Batch  125/149   train_loss = 3.874\n",
      "Epoch  15 Batch  145/149   train_loss = 3.859\n",
      "Epoch  16 Batch   16/149   train_loss = 3.858\n",
      "Epoch  16 Batch   36/149   train_loss = 3.900\n",
      "Epoch  16 Batch   56/149   train_loss = 3.893\n",
      "Epoch  16 Batch   76/149   train_loss = 3.873\n",
      "Epoch  16 Batch   96/149   train_loss = 3.853\n",
      "Epoch  16 Batch  116/149   train_loss = 3.891\n",
      "Epoch  16 Batch  136/149   train_loss = 3.884\n",
      "Epoch  17 Batch    7/149   train_loss = 3.860\n",
      "Epoch  17 Batch   27/149   train_loss = 3.909\n",
      "Epoch  17 Batch   47/149   train_loss = 3.906\n",
      "Epoch  17 Batch   67/149   train_loss = 3.909\n",
      "Epoch  17 Batch   87/149   train_loss = 3.864\n",
      "Epoch  17 Batch  107/149   train_loss = 3.855\n",
      "Epoch  17 Batch  127/149   train_loss = 3.902\n",
      "Epoch  17 Batch  147/149   train_loss = 3.804\n",
      "Epoch  18 Batch   18/149   train_loss = 3.805\n",
      "Epoch  18 Batch   38/149   train_loss = 3.814\n",
      "Epoch  18 Batch   58/149   train_loss = 3.859\n",
      "Epoch  18 Batch   78/149   train_loss = 3.848\n",
      "Epoch  18 Batch   98/149   train_loss = 3.863\n",
      "Epoch  18 Batch  118/149   train_loss = 3.886\n",
      "Epoch  18 Batch  138/149   train_loss = 3.844\n",
      "Epoch  19 Batch    9/149   train_loss = 3.851\n",
      "Epoch  19 Batch   29/149   train_loss = 3.848\n",
      "Epoch  19 Batch   49/149   train_loss = 3.836\n",
      "Epoch  19 Batch   69/149   train_loss = 3.859\n",
      "Epoch  19 Batch   89/149   train_loss = 3.824\n",
      "Epoch  19 Batch  109/149   train_loss = 3.780\n",
      "Epoch  19 Batch  129/149   train_loss = 3.805\n",
      "Epoch  20 Batch    0/149   train_loss = 3.810\n",
      "Epoch  20 Batch   20/149   train_loss = 3.808\n",
      "Epoch  20 Batch   40/149   train_loss = 3.819\n",
      "Epoch  20 Batch   60/149   train_loss = 3.797\n",
      "Epoch  20 Batch   80/149   train_loss = 3.745\n",
      "Epoch  20 Batch  100/149   train_loss = 3.844\n",
      "Epoch  20 Batch  120/149   train_loss = 3.799\n",
      "Epoch  20 Batch  140/149   train_loss = 3.806\n",
      "Epoch  21 Batch   11/149   train_loss = 3.821\n",
      "Epoch  21 Batch   31/149   train_loss = 3.802\n",
      "Epoch  21 Batch   51/149   train_loss = 3.789\n",
      "Epoch  21 Batch   71/149   train_loss = 3.781\n",
      "Epoch  21 Batch   91/149   train_loss = 3.826\n",
      "Epoch  21 Batch  111/149   train_loss = 3.780\n",
      "Epoch  21 Batch  131/149   train_loss = 3.814\n",
      "Epoch  22 Batch    2/149   train_loss = 3.752\n",
      "Epoch  22 Batch   22/149   train_loss = 3.769\n",
      "Epoch  22 Batch   42/149   train_loss = 3.776\n",
      "Epoch  22 Batch   62/149   train_loss = 3.763\n",
      "Epoch  22 Batch   82/149   train_loss = 3.763\n",
      "Epoch  22 Batch  102/149   train_loss = 3.802\n",
      "Epoch  22 Batch  122/149   train_loss = 3.760\n",
      "Epoch  22 Batch  142/149   train_loss = 3.744\n",
      "Epoch  23 Batch   13/149   train_loss = 3.759\n",
      "Epoch  23 Batch   33/149   train_loss = 3.765\n",
      "Epoch  23 Batch   53/149   train_loss = 3.782\n",
      "Epoch  23 Batch   73/149   train_loss = 3.768\n",
      "Epoch  23 Batch   93/149   train_loss = 3.769\n",
      "Epoch  23 Batch  113/149   train_loss = 3.789\n",
      "Epoch  23 Batch  133/149   train_loss = 3.782\n",
      "Epoch  24 Batch    4/149   train_loss = 3.787\n",
      "Epoch  24 Batch   24/149   train_loss = 3.765\n",
      "Epoch  24 Batch   44/149   train_loss = 3.764\n",
      "Epoch  24 Batch   64/149   train_loss = 3.756\n",
      "Epoch  24 Batch   84/149   train_loss = 3.755\n",
      "Epoch  24 Batch  104/149   train_loss = 3.718\n",
      "Epoch  24 Batch  124/149   train_loss = 3.727\n",
      "Epoch  24 Batch  144/149   train_loss = 3.765\n",
      "Epoch  25 Batch   15/149   train_loss = 3.737\n",
      "Epoch  25 Batch   35/149   train_loss = 3.781\n",
      "Epoch  25 Batch   55/149   train_loss = 3.770\n",
      "Epoch  25 Batch   75/149   train_loss = 3.749\n",
      "Epoch  25 Batch   95/149   train_loss = 3.750\n",
      "Epoch  25 Batch  115/149   train_loss = 3.718\n",
      "Epoch  25 Batch  135/149   train_loss = 3.752\n",
      "Epoch  26 Batch    6/149   train_loss = 3.743\n",
      "Epoch  26 Batch   26/149   train_loss = 3.777\n",
      "Epoch  26 Batch   46/149   train_loss = 3.738\n",
      "Epoch  26 Batch   66/149   train_loss = 3.725\n",
      "Epoch  26 Batch   86/149   train_loss = 3.719\n",
      "Epoch  26 Batch  106/149   train_loss = 3.712\n",
      "Epoch  26 Batch  126/149   train_loss = 3.719\n",
      "Epoch  26 Batch  146/149   train_loss = 3.711\n",
      "Epoch  27 Batch   17/149   train_loss = 3.715\n",
      "Epoch  27 Batch   37/149   train_loss = 3.748\n",
      "Epoch  27 Batch   57/149   train_loss = 3.773\n",
      "Epoch  27 Batch   77/149   train_loss = 3.746\n",
      "Epoch  27 Batch   97/149   train_loss = 3.745\n",
      "Epoch  27 Batch  117/149   train_loss = 3.730\n",
      "Epoch  27 Batch  137/149   train_loss = 3.740\n",
      "Epoch  28 Batch    8/149   train_loss = 3.672\n",
      "Epoch  28 Batch   28/149   train_loss = 3.704\n",
      "Epoch  28 Batch   48/149   train_loss = 3.722\n",
      "Epoch  28 Batch   68/149   train_loss = 3.693\n",
      "Epoch  28 Batch   88/149   train_loss = 3.729\n",
      "Epoch  28 Batch  108/149   train_loss = 3.715\n",
      "Epoch  28 Batch  128/149   train_loss = 3.712\n",
      "Epoch  28 Batch  148/149   train_loss = 3.667\n",
      "Epoch  29 Batch   19/149   train_loss = 3.713\n",
      "Epoch  29 Batch   39/149   train_loss = 3.667\n",
      "Epoch  29 Batch   59/149   train_loss = 3.743\n",
      "Epoch  29 Batch   79/149   train_loss = 3.703\n",
      "Epoch  29 Batch   99/149   train_loss = 3.687\n",
      "Epoch  29 Batch  119/149   train_loss = 3.674\n",
      "Epoch  29 Batch  139/149   train_loss = 3.657\n",
      "Epoch  30 Batch   10/149   train_loss = 3.670\n",
      "Epoch  30 Batch   30/149   train_loss = 3.703\n",
      "Epoch  30 Batch   50/149   train_loss = 3.666\n",
      "Epoch  30 Batch   70/149   train_loss = 3.672\n",
      "Epoch  30 Batch   90/149   train_loss = 3.695\n",
      "Epoch  30 Batch  110/149   train_loss = 3.644\n",
      "Epoch  30 Batch  130/149   train_loss = 3.645\n",
      "Epoch  31 Batch    1/149   train_loss = 3.680\n",
      "Epoch  31 Batch   21/149   train_loss = 3.667\n",
      "Epoch  31 Batch   41/149   train_loss = 3.682\n",
      "Epoch  31 Batch   61/149   train_loss = 3.697\n",
      "Epoch  31 Batch   81/149   train_loss = 3.649\n",
      "Epoch  31 Batch  101/149   train_loss = 3.691\n",
      "Epoch  31 Batch  121/149   train_loss = 3.671\n",
      "Epoch  31 Batch  141/149   train_loss = 3.670\n",
      "Epoch  32 Batch   12/149   train_loss = 3.644\n",
      "Epoch  32 Batch   32/149   train_loss = 3.698\n",
      "Epoch  32 Batch   52/149   train_loss = 3.649\n",
      "Epoch  32 Batch   72/149   train_loss = 3.678\n",
      "Epoch  32 Batch   92/149   train_loss = 3.620\n",
      "Epoch  32 Batch  112/149   train_loss = 3.703\n",
      "Epoch  32 Batch  132/149   train_loss = 3.672\n",
      "Epoch  33 Batch    3/149   train_loss = 3.685\n",
      "Epoch  33 Batch   23/149   train_loss = 3.628\n",
      "Epoch  33 Batch   43/149   train_loss = 3.640\n",
      "Epoch  33 Batch   63/149   train_loss = 3.669\n",
      "Epoch  33 Batch   83/149   train_loss = 3.638\n",
      "Epoch  33 Batch  103/149   train_loss = 3.650\n",
      "Epoch  33 Batch  123/149   train_loss = 3.682\n",
      "Epoch  33 Batch  143/149   train_loss = 3.658\n",
      "Epoch  34 Batch   14/149   train_loss = 3.666\n",
      "Epoch  34 Batch   34/149   train_loss = 3.626\n",
      "Epoch  34 Batch   54/149   train_loss = 3.667\n",
      "Epoch  34 Batch   74/149   train_loss = 3.652\n",
      "Epoch  34 Batch   94/149   train_loss = 3.668\n",
      "Epoch  34 Batch  114/149   train_loss = 3.657\n",
      "Epoch  34 Batch  134/149   train_loss = 3.679\n",
      "Epoch  35 Batch    5/149   train_loss = 3.649\n",
      "Epoch  35 Batch   25/149   train_loss = 3.638\n",
      "Epoch  35 Batch   45/149   train_loss = 3.685\n",
      "Epoch  35 Batch   65/149   train_loss = 3.631\n",
      "Epoch  35 Batch   85/149   train_loss = 3.640\n",
      "Epoch  35 Batch  105/149   train_loss = 3.634\n",
      "Epoch  35 Batch  125/149   train_loss = 3.625\n",
      "Epoch  35 Batch  145/149   train_loss = 3.625\n",
      "Epoch  36 Batch   16/149   train_loss = 3.618\n",
      "Epoch  36 Batch   36/149   train_loss = 3.640\n",
      "Epoch  36 Batch   56/149   train_loss = 3.668\n",
      "Epoch  36 Batch   76/149   train_loss = 3.606\n",
      "Epoch  36 Batch   96/149   train_loss = 3.648\n",
      "Epoch  36 Batch  116/149   train_loss = 3.625\n",
      "Epoch  36 Batch  136/149   train_loss = 3.622\n",
      "Epoch  37 Batch    7/149   train_loss = 3.614\n",
      "Epoch  37 Batch   27/149   train_loss = 3.683\n",
      "Epoch  37 Batch   47/149   train_loss = 3.662\n",
      "Epoch  37 Batch   67/149   train_loss = 3.675\n",
      "Epoch  37 Batch   87/149   train_loss = 3.637\n",
      "Epoch  37 Batch  107/149   train_loss = 3.603\n",
      "Epoch  37 Batch  127/149   train_loss = 3.689\n",
      "Epoch  37 Batch  147/149   train_loss = 3.548\n",
      "Epoch  38 Batch   18/149   train_loss = 3.582\n",
      "Epoch  38 Batch   38/149   train_loss = 3.611\n",
      "Epoch  38 Batch   58/149   train_loss = 3.628\n",
      "Epoch  38 Batch   78/149   train_loss = 3.647\n",
      "Epoch  38 Batch   98/149   train_loss = 3.630\n",
      "Epoch  38 Batch  118/149   train_loss = 3.672\n",
      "Epoch  38 Batch  138/149   train_loss = 3.623\n",
      "Epoch  39 Batch    9/149   train_loss = 3.617\n",
      "Epoch  39 Batch   29/149   train_loss = 3.644\n",
      "Epoch  39 Batch   49/149   train_loss = 3.607\n",
      "Epoch  39 Batch   69/149   train_loss = 3.650\n",
      "Epoch  39 Batch   89/149   train_loss = 3.638\n",
      "Epoch  39 Batch  109/149   train_loss = 3.592\n",
      "Epoch  39 Batch  129/149   train_loss = 3.611\n",
      "Model Trained and Saved\n"
     ]
    }
   ],
   "source": [
    "\"\"\"\n",
    "DON'T MODIFY ANYTHING IN THIS CELL\n",
    "\"\"\"\n",
    "batches = get_batches(int_text, batch_size, seq_length)\n",
    "\n",
    "with tf.Session(graph=train_graph) as sess:\n",
    "    sess.run(tf.global_variables_initializer())\n",
    "\n",
    "    for epoch_i in range(num_epochs):\n",
    "        state = sess.run(initial_state, {input_text: batches[0][0]})\n",
    "\n",
    "        for batch_i, (x, y) in enumerate(batches):\n",
    "            feed = {\n",
    "                input_text: x,\n",
    "                targets: y,\n",
    "                initial_state: state,\n",
    "                lr: learning_rate}\n",
    "            train_loss, state, _ = sess.run([cost, final_state, train_op], feed)\n",
    "\n",
    "            # Show every <show_every_n_batches> batches\n",
    "            if (epoch_i * len(batches) + batch_i) % show_every_n_batches == 0:\n",
    "                print('Epoch {:>3} Batch {:>4}/{}   train_loss = {:.3f}'.format(\n",
    "                    epoch_i,\n",
    "                    batch_i,\n",
    "                    len(batches),\n",
    "                    train_loss))\n",
    "\n",
    "    # Save Model\n",
    "    saver = tf.train.Saver()\n",
    "    saver.save(sess, save_dir)\n",
    "    print('Model Trained and Saved')"
   ]
  },
  {
   "cell_type": "markdown",
   "metadata": {
    "deletable": true,
    "editable": true
   },
   "source": [
    "## Save Parameters\n",
    "Save `seq_length` and `save_dir` for generating a new TV script."
   ]
  },
  {
   "cell_type": "code",
   "execution_count": 51,
   "metadata": {
    "collapsed": false,
    "deletable": true,
    "editable": true
   },
   "outputs": [],
   "source": [
    "\"\"\"\n",
    "DON'T MODIFY ANYTHING IN THIS CELL\n",
    "\"\"\"\n",
    "# Save parameters for checkpoint\n",
    "helper.save_params((seq_length, save_dir))"
   ]
  },
  {
   "cell_type": "markdown",
   "metadata": {
    "deletable": true,
    "editable": true
   },
   "source": [
    "# Checkpoint"
   ]
  },
  {
   "cell_type": "code",
   "execution_count": 52,
   "metadata": {
    "collapsed": false,
    "deletable": true,
    "editable": true
   },
   "outputs": [],
   "source": [
    "\"\"\"\n",
    "DON'T MODIFY ANYTHING IN THIS CELL\n",
    "\"\"\"\n",
    "import tensorflow as tf\n",
    "import numpy as np\n",
    "import helper\n",
    "import problem_unittests as tests\n",
    "\n",
    "_, vocab_to_int, int_to_vocab, token_dict = helper.load_preprocess()\n",
    "seq_length, load_dir = helper.load_params()"
   ]
  },
  {
   "cell_type": "markdown",
   "metadata": {
    "deletable": true,
    "editable": true
   },
   "source": [
    "## Implement Generate Functions\n",
    "### Get Tensors\n",
    "Get tensors from `loaded_graph` using the function [`get_tensor_by_name()`](https://www.tensorflow.org/api_docs/python/tf/Graph#get_tensor_by_name).  Get the tensors using the following names:\n",
    "- \"input:0\"\n",
    "- \"initial_state:0\"\n",
    "- \"final_state:0\"\n",
    "- \"probs:0\"\n",
    "\n",
    "Return the tensors in the following tuple `(InputTensor, InitialStateTensor, FinalStateTensor, ProbsTensor)` "
   ]
  },
  {
   "cell_type": "code",
   "execution_count": 53,
   "metadata": {
    "collapsed": false,
    "deletable": true,
    "editable": true
   },
   "outputs": [
    {
     "name": "stdout",
     "output_type": "stream",
     "text": [
      "Tests Passed\n"
     ]
    }
   ],
   "source": [
    "def get_tensors(loaded_graph):\n",
    "    \"\"\"\n",
    "    Get input, initial state, final state, and probabilities tensor from <loaded_graph>\n",
    "    :param loaded_graph: TensorFlow graph loaded from file\n",
    "    :return: Tuple (InputTensor, InitialStateTensor, FinalStateTensor, ProbsTensor)\n",
    "    \"\"\"\n",
    "    # TODO: Implement Function\n",
    "    \n",
    "    inputs = loaded_graph.get_tensor_by_name(\"input:0\")\n",
    "    initial_state = loaded_graph.get_tensor_by_name(\"initial_state:0\")\n",
    "    final_state = loaded_graph.get_tensor_by_name(\"final_state:0\")\n",
    "    probs = loaded_graph.get_tensor_by_name(\"probs:0\")\n",
    "    \n",
    "    return inputs, initial_state, final_state, probs\n",
    "\n",
    "\n",
    "\"\"\"\n",
    "DON'T MODIFY ANYTHING IN THIS CELL THAT IS BELOW THIS LINE\n",
    "\"\"\"\n",
    "tests.test_get_tensors(get_tensors)"
   ]
  },
  {
   "cell_type": "markdown",
   "metadata": {
    "deletable": true,
    "editable": true
   },
   "source": [
    "### Choose Word\n",
    "Implement the `pick_word()` function to select the next word using `probabilities`."
   ]
  },
  {
   "cell_type": "code",
   "execution_count": 54,
   "metadata": {
    "collapsed": false,
    "deletable": true,
    "editable": true
   },
   "outputs": [
    {
     "name": "stdout",
     "output_type": "stream",
     "text": [
      "Tests Passed\n"
     ]
    }
   ],
   "source": [
    "def pick_word(probabilities, int_to_vocab):\n",
    "    \"\"\"\n",
    "    Pick the next word in the generated text\n",
    "    :param probabilities: Probabilites of the next word\n",
    "    :param int_to_vocab: Dictionary of word ids as the keys and words as the values\n",
    "    :return: String of the predicted word\n",
    "    \"\"\"\n",
    "    # TODO: Implement Function\n",
    "\n",
    "    top_n = 5\n",
    "    \n",
    "    p = np.squeeze(probabilities)                        # squeeze 0 dims\n",
    "    p[np.argsort(p)[:-top_n]] = 0                        # set all probabilities to 0, except the top_n\n",
    "    p = p / np.sum(p)                                    # normalize the probability distribution\n",
    "    w = np.random.choice(len(int_to_vocab), 1, p=p)[0]   # choose random using the distribution\n",
    "    \n",
    "    return int_to_vocab[w]\n",
    "\n",
    "\n",
    "\"\"\"\n",
    "DON'T MODIFY ANYTHING IN THIS CELL THAT IS BELOW THIS LINE\n",
    "\"\"\"\n",
    "tests.test_pick_word(pick_word)"
   ]
  },
  {
   "cell_type": "markdown",
   "metadata": {
    "deletable": true,
    "editable": true
   },
   "source": [
    "## Generate TV Script\n",
    "This will generate the TV script for you.  Set `gen_length` to the length of TV script you want to generate."
   ]
  },
  {
   "cell_type": "code",
   "execution_count": 55,
   "metadata": {
    "collapsed": false,
    "deletable": true,
    "editable": true
   },
   "outputs": [
    {
     "name": "stdout",
     "output_type": "stream",
     "text": [
      "moe_szyslak: i dont know how to be\n",
      "carl_carlson: oh yeah thats it\n",
      "carl_carlson: yeah oink oink oink oink oink oink oink oink oink oink oink oink oink oink oink oink oink oink oink oink oink and designed to expand the english cause you have a face of grief i control\n",
      "\n",
      "lisa_simpson: bart i want a little more\n",
      "bart_simpson: hey dad whatcha doing\n",
      "homer_simpson: oh yeah\n",
      "bart_simpson: oh yeah i cant believe it i guess youre a great mob you know what i want you to be in the\n",
      "\n",
      "homer_simpson: i dont know\n",
      "homer_simpson: oh no\n",
      "homer_simpson: you know i have to live in a\n",
      "marge_simpson: well you dont\n",
      "meathook: i suppose i could be anywhere\n",
      "homer_simpson: oh marge this is my brother\n",
      "homer_simpson: you know what i mean i dont think you deserve to be on a soft agreement\n",
      "homer_simpson: i guess i can help my own religion for free\n",
      "homer_simpson: i think its a little dirty except for a little discipline put it in\n",
      "homer_simpson: well if you could buy the apartment alone with the war and the\n",
      "marge_simpson: well i\n"
     ]
    }
   ],
   "source": [
    "gen_length = 200\n",
    "# homer_simpson, moe_szyslak, or Barney_Gumble\n",
    "prime_word = 'moe_szyslak'\n",
    "\n",
    "\"\"\"\n",
    "DON'T MODIFY ANYTHING IN THIS CELL THAT IS BELOW THIS LINE\n",
    "\"\"\"\n",
    "loaded_graph = tf.Graph()\n",
    "with tf.Session(graph=loaded_graph) as sess:\n",
    "    # Load saved model\n",
    "    loader = tf.train.import_meta_graph(load_dir + '.meta')\n",
    "    loader.restore(sess, load_dir)\n",
    "\n",
    "    # Get Tensors from loaded model\n",
    "    input_text, initial_state, final_state, probs = get_tensors(loaded_graph)\n",
    "\n",
    "    # Sentences generation setup\n",
    "    gen_sentences = [prime_word + ':']\n",
    "    prev_state = sess.run(initial_state, {input_text: np.array([[1]])})\n",
    "\n",
    "    # Generate sentences\n",
    "    for n in range(gen_length):\n",
    "        # Dynamic Input\n",
    "        dyn_input = [[vocab_to_int[word] for word in gen_sentences[-seq_length:]]]\n",
    "        dyn_seq_length = len(dyn_input[0])\n",
    "\n",
    "        # Get Prediction\n",
    "        probabilities, prev_state = sess.run(\n",
    "            [probs, final_state],\n",
    "            {input_text: dyn_input, initial_state: prev_state})\n",
    "        \n",
    "        pred_word = pick_word(probabilities[dyn_seq_length-1], int_to_vocab)\n",
    "\n",
    "        gen_sentences.append(pred_word)\n",
    "    \n",
    "    # Remove tokens\n",
    "    tv_script = ' '.join(gen_sentences)\n",
    "    for key, token in token_dict.items():\n",
    "        ending = ' ' if key in ['\\n', '(', '\"'] else ''\n",
    "        tv_script = tv_script.replace(' ' + token.lower(), key)\n",
    "    tv_script = tv_script.replace('\\n ', '\\n')\n",
    "    tv_script = tv_script.replace('( ', '(')\n",
    "        \n",
    "    print(tv_script)"
   ]
  },
  {
   "cell_type": "markdown",
   "metadata": {
    "deletable": true,
    "editable": true
   },
   "source": [
    "# The TV Script is Nonsensical\n",
    "It's ok if the TV script doesn't make any sense.  We trained on less than a megabyte of text.  In order to get good results, you'll have to use a smaller vocabulary or get more data.  Luckly there's more data!  As we mentioned in the begging of this project, this is a subset of [another dataset](https://www.kaggle.com/wcukierski/the-simpsons-by-the-data).  We didn't have you train on all the data, because that would take too long.  However, you are free to train your neural network on all the data.  After you complete the project, of course.\n",
    "# Submitting This Project\n",
    "When submitting this project, make sure to run all the cells before saving the notebook. Save the notebook file as \"dlnd_tv_script_generation.ipynb\" and save it as a HTML file under \"File\" -> \"Download as\". Include the \"helper.py\" and \"problem_unittests.py\" files in your submission."
   ]
  }
 ],
 "metadata": {
  "kernelspec": {
   "display_name": "Python 3",
   "language": "python",
   "name": "python3"
  },
  "language_info": {
   "codemirror_mode": {
    "name": "ipython",
    "version": 3
   },
   "file_extension": ".py",
   "mimetype": "text/x-python",
   "name": "python",
   "nbconvert_exporter": "python",
   "pygments_lexer": "ipython3",
   "version": "3.5.2"
  },
  "widgets": {
   "state": {},
   "version": "1.1.2"
  }
 },
 "nbformat": 4,
 "nbformat_minor": 0
}
